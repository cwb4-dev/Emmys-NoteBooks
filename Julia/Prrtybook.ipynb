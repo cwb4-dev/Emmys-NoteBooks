{
 "cells": [
  {
   "cell_type": "code",
   "execution_count": 1,
   "metadata": {},
   "outputs": [
    {
     "name": "stderr",
     "output_type": "stream",
     "text": [
      "\u001b[32m\u001b[1m  Activating\u001b[22m\u001b[39m project at `~/dev/nbs/PrrtyEnv`\n"
     ]
    }
   ],
   "source": [
    "using Pkg; Pkg.activate(\"PrrtyEnv\")"
   ]
  },
  {
   "cell_type": "code",
   "execution_count": 2,
   "metadata": {},
   "outputs": [
    {
     "name": "stdout",
     "output_type": "stream",
     "text": [
      "\u001b[32m\u001b[1m      Status\u001b[22m\u001b[39m `~/dev/nbs/PrrtyEnv/Project.toml`\n",
      " \u001b[90m [a47e2ad8] \u001b[39mToolips v0.2.4 `https://github.com/ChifiSource/Toolips.jl.git#Unstable`\n",
      " \u001b[90m [8ae86ec9] \u001b[39mToolipsSVG v0.1.0 `https://github.com/ChifiSource/ToolipsSVG.jl#unstable`\n",
      " \u001b[90m [2fe55384] \u001b[39mToolipsSession v0.3.0\n"
     ]
    }
   ],
   "source": [
    "Pkg.status()"
   ]
  },
  {
   "cell_type": "code",
   "execution_count": 3,
   "metadata": {},
   "outputs": [],
   "source": [
    "using Toolips"
   ]
  },
  {
   "cell_type": "code",
   "execution_count": 4,
   "metadata": {},
   "outputs": [],
   "source": [
    "using ToolipsSession"
   ]
  },
  {
   "cell_type": "code",
   "execution_count": 5,
   "metadata": {},
   "outputs": [],
   "source": [
    "using ToolipsSVG"
   ]
  },
  {
   "cell_type": "code",
   "execution_count": 6,
   "metadata": {},
   "outputs": [],
   "source": [
    "using Random"
   ]
  },
  {
   "cell_type": "code",
   "execution_count": 7,
   "metadata": {},
   "outputs": [],
   "source": [
    "abstract type AbstractContext <: Toolips.Modifier end"
   ]
  },
  {
   "cell_type": "code",
   "execution_count": 8,
   "metadata": {},
   "outputs": [],
   "source": [
    "mutable struct Context <: AbstractContext\n",
    "    window::Component{:svg}\n",
    "    uuid::String\n",
    "    layers::Dict{String, UnitRange{Int64}}\n",
    "    dim::Pair{Int64, Int64}\n",
    "    margin::Pair{Int64, Int64}\n",
    "    Context(wind::Component{:svg}, margin::Pair{Int64, Int64}) = begin\n",
    "        new(wind, randstring(), Dict{String, UnitRange{Int64}}(), wind[:width] => wind[:height], \n",
    "            margin)::Context\n",
    "    end\n",
    "    Context(width::Int64 = 1280, height::Int64 = 720,\n",
    "        margin::Pair{Int64, Int64} = 0 => 0) = begin\n",
    "        window::Component{:svg} = svg(\"window\", width = width,\n",
    "        height = height)\n",
    "        Context(window, margin)::Context\n",
    "    end\n",
    "end"
   ]
  },
  {
   "cell_type": "code",
   "execution_count": 9,
   "metadata": {
    "scrolled": true
   },
   "outputs": [
    {
     "data": {
      "text/plain": [
       "Context(Component{:svg}(\"window\", Toolips.var\"#f#80\"{String, String, Dict{Any, Any}, Vector{Servable}}(\"window\", \"svg\", Dict{Any, Any}(:children => Servable[], :height => 500, :width => 500), Servable[]), Dict{Any, Any}(:children => Servable[], :height => 500, :width => 500), Servable[], \"svg\"), \"bhcttHZR\", Dict{String, UnitRange{Int64}}(), 500 => 500, 0 => 0)"
      ]
     },
     "execution_count": 9,
     "metadata": {},
     "output_type": "execute_result"
    }
   ],
   "source": [
    "c = Context(500, 500)"
   ]
  },
  {
   "cell_type": "code",
   "execution_count": 10,
   "metadata": {},
   "outputs": [
    {
     "data": {
      "text/plain": [
       "draw! (generic function with 2 methods)"
      ]
     },
     "execution_count": 10,
     "metadata": {},
     "output_type": "execute_result"
    }
   ],
   "source": [
    "function draw!(c::AbstractContext, comps::Vector{<:Servable}, id::String = randstring())\n",
    "    current_len::Int64 = length(c.window[:children])\n",
    "    comp_len::Int64 = length(comps)\n",
    "    c.window[:children] = Vector{Servable}(vcat(c.window[:children], comps))\n",
    "    push!(c.layers, id => current_len + 1:current_len + comp_len)\n",
    "end"
   ]
  },
  {
   "cell_type": "code",
   "execution_count": 11,
   "metadata": {},
   "outputs": [
    {
     "data": {
      "text/plain": [
       "line! (generic function with 1 method)"
      ]
     },
     "execution_count": 11,
     "metadata": {},
     "output_type": "execute_result"
    }
   ],
   "source": [
    "function line!(con::AbstractContext, x::Vector{<:Number}, y::Vector{<:Number},\n",
    "        styles::Pair{String, <:Any} ...)\n",
    "    if length(styles) == 0\n",
    "        styles = (\"fill\" => \"none\", \"stroke\" => \"black\", \"stroke-width\" => \"4\")\n",
    "    end\n",
    "    if length(x) != length(y)\n",
    "        throw(DimensionMismatch(\"x and y, of lengths $(length(x)) and $(length(y)) are not equal!\"))\n",
    "    end\n",
    "    xmax::Number, ymax::Number = maximum(x), maximum(y)\n",
    "    percvec_x = map(n::Number -> n / xmax, x)\n",
    "    percvec_y = map(n::Number -> n / ymax, y)\n",
    "    line_data = join(Tuple(begin\n",
    "                    scaled_x::Int64 = round(con.dim[1] * xper)  + con.margin[1]\n",
    "                    scaled_y::Int64 = con.dim[2] - round(con.dim[2] * yper)  + con.margin[2]\n",
    "                    \"$(scaled_x)&#32;$(scaled_y),\"\n",
    "                end for (xper, yper) in zip(percvec_x, percvec_y)))\n",
    "    line_comp = ToolipsSVG.polyline(\"newline\", points = line_data)\n",
    "    style!(line_comp, styles ...)\n",
    "    draw!(con, [line_comp])\n",
    "end"
   ]
  },
  {
   "cell_type": "code",
   "execution_count": 12,
   "metadata": {},
   "outputs": [
    {
     "data": {
      "text/plain": [
       "Dict{String, UnitRange{Int64}} with 1 entry:\n",
       "  \"n4XAapsy\" => 1:1"
      ]
     },
     "execution_count": 12,
     "metadata": {},
     "output_type": "execute_result"
    }
   ],
   "source": [
    "line!(c, [25, 22, 15], [15, 34, 55])"
   ]
  },
  {
   "cell_type": "code",
   "execution_count": 13,
   "metadata": {},
   "outputs": [
    {
     "data": {
      "text/html": [
       "\"<svg id=window height=500 width=500><polyline id=newline style='fill: none;stroke: black;stroke-width: 4;' points=500&#32;364,440&#32;191,300&#32;0,></polyline></svg>\""
      ],
      "text/plain": [
       "Component{:svg}(\"window\", Toolips.var\"#f#80\"{String, String, Dict{Any, Any}, Vector{Servable}}(\"window\", \"svg\", Dict{Any, Any}(:children => Servable[Component{:polyline}(\"newline\", Toolips.var\"#f#80\"{String, String, Dict{Any, Any}, Vector{Servable}}(\"newline\", \"polyline\", Dict{Any, Any}(:children => Servable[], \"style\" => \"'fill: none;stroke: black;stroke-width: 4;'\", :points => \"500&#32;364,440&#32;191,300&#32;0,\"), Servable[]), Dict{Any, Any}(:children => Servable[], \"style\" => \"'fill: none;stroke: black;stroke-width: 4;'\", :points => \"500&#32;364,440&#32;191,300&#32;0,\"), Servable[], \"polyline\")], :height => 500, :width => 500), Servable[]), Dict{Any, Any}(:children => Servable[Component{:polyline}(\"newline\", Toolips.var\"#f#80\"{String, String, Dict{Any, Any}, Vector{Servable}}(\"newline\", \"polyline\", Dict{Any, Any}(:children => Servable[], \"style\" => \"'fill: none;stroke: black;stroke-width: 4;'\", :points => \"500&#32;364,440&#32;191,300&#32;0,\"), Servable[]), Dict{Any, Any}(:children => Servable[], \"style\" => \"'fill: none;stroke: black;stroke-width: 4;'\", :points => \"500&#32;364,440&#32;191,300&#32;0,\"), Servable[], \"polyline\")], :height => 500, :width => 500), Servable[], \"svg\")"
      ]
     },
     "metadata": {},
     "output_type": "display_data"
    }
   ],
   "source": [
    "display(c.window)"
   ]
  },
  {
   "cell_type": "code",
   "execution_count": 14,
   "metadata": {},
   "outputs": [
    {
     "data": {
      "text/plain": [
       "Dict{String, UnitRange{Int64}} with 2 entries:\n",
       "  \"n4XAapsy\" => 1:1\n",
       "  \"0uBrwhd5\" => 2:2"
      ]
     },
     "execution_count": 14,
     "metadata": {},
     "output_type": "execute_result"
    }
   ],
   "source": [
    "line!(c, [35, 92, 22], [125, 92, 27], \"stroke-width\" => \"5\", \"fill\" => \"none\", \"stroke\" => \"blue\")"
   ]
  },
  {
   "cell_type": "code",
   "execution_count": 15,
   "metadata": {},
   "outputs": [
    {
     "data": {
      "text/html": [
       "\"<svg id=window height=500 width=500><polyline id=newline style='fill: none;stroke: black;stroke-width: 4;' points=500&#32;364,440&#32;191,300&#32;0,></polyline><polyline id=newline style='stroke-width: 5;fill: none;stroke: blue;' points=190&#32;0,500&#32;132,120&#32;392,></polyline></svg>\""
      ],
      "text/plain": [
       "Component{:svg}(\"window\", Toolips.var\"#f#80\"{String, String, Dict{Any, Any}, Vector{Servable}}(\"window\", \"svg\", Dict{Any, Any}(:children => Servable[Component{:polyline}(\"newline\", Toolips.var\"#f#80\"{String, String, Dict{Any, Any}, Vector{Servable}}(\"newline\", \"polyline\", Dict{Any, Any}(:children => Servable[], \"style\" => \"'fill: none;stroke: black;stroke-width: 4;'\", :points => \"500&#32;364,440&#32;191,300&#32;0,\"), Servable[]), Dict{Any, Any}(:children => Servable[], \"style\" => \"'fill: none;stroke: black;stroke-width: 4;'\", :points => \"500&#32;364,440&#32;191,300&#32;0,\"), Servable[], \"polyline\"), Component{:polyline}(\"newline\", Toolips.var\"#f#80\"{String, String, Dict{Any, Any}, Vector{Servable}}(\"newline\", \"polyline\", Dict{Any, Any}(:children => Servable[], \"style\" => \"'stroke-width: 5;fill: none;stroke: blue;'\", :points => \"190&#32;0,500&#32;132,120&#32;392,\"), Servable[]), Dict{Any, Any}(:children => Servable[], \"style\" => \"'stroke-width: 5;fill: none;stroke: blue;'\", :points => \"190&#32;0,500&#32;132,120&#32;392,\"), Servable[], \"polyline\")], :height => 500, :width => 500), Servable[]), Dict{Any, Any}(:children => Servable[Component{:polyline}(\"newline\", Toolips.var\"#f#80\"{String, String, Dict{Any, Any}, Vector{Servable}}(\"newline\", \"polyline\", Dict{Any, Any}(:children => Servable[], \"style\" => \"'fill: none;stroke: black;stroke-width: 4;'\", :points => \"500&#32;364,440&#32;191,300&#32;0,\"), Servable[]), Dict{Any, Any}(:children => Servable[], \"style\" => \"'fill: none;stroke: black;stroke-width: 4;'\", :points => \"500&#32;364,440&#32;191,300&#32;0,\"), Servable[], \"polyline\"), Component{:polyline}(\"newline\", Toolips.var\"#f#80\"{String, String, Dict{Any, Any}, Vector{Servable}}(\"newline\", \"polyline\", Dict{Any, Any}(:children => Servable[], \"style\" => \"'stroke-width: 5;fill: none;stroke: blue;'\", :points => \"190&#32;0,500&#32;132,120&#32;392,\"), Servable[]), Dict{Any, Any}(:children => Servable[], \"style\" => \"'stroke-width: 5;fill: none;stroke: blue;'\", :points => \"190&#32;0,500&#32;132,120&#32;392,\"), Servable[], \"polyline\")], :height => 500, :width => 500), Servable[], \"svg\")"
      ]
     },
     "metadata": {},
     "output_type": "display_data"
    }
   ],
   "source": [
    "display(c.window)"
   ]
  },
  {
   "cell_type": "code",
   "execution_count": 16,
   "metadata": {},
   "outputs": [
    {
     "data": {
      "text/plain": [
       "Dict{String, UnitRange{Int64}} with 2 entries:\n",
       "  \"n4XAapsy\" => 1:1\n",
       "  \"0uBrwhd5\" => 2:2"
      ]
     },
     "execution_count": 16,
     "metadata": {},
     "output_type": "execute_result"
    }
   ],
   "source": [
    "c.layers"
   ]
  },
  {
   "cell_type": "code",
   "execution_count": 17,
   "metadata": {},
   "outputs": [
    {
     "data": {
      "text/html": [
       "\"<polyline id=newline style='fill: none;stroke: black;stroke-width: 4;' points=500&#32;364,440&#32;191,300&#32;0,></polyline>\""
      ],
      "text/plain": [
       "Component{:polyline}(\"newline\", Toolips.var\"#f#80\"{String, String, Dict{Any, Any}, Vector{Servable}}(\"newline\", \"polyline\", Dict{Any, Any}(:children => Servable[], \"style\" => \"'fill: none;stroke: black;stroke-width: 4;'\", :points => \"500&#32;364,440&#32;191,300&#32;0,\"), Servable[]), Dict{Any, Any}(:children => Servable[], \"style\" => \"'fill: none;stroke: black;stroke-width: 4;'\", :points => \"500&#32;364,440&#32;191,300&#32;0,\"), Servable[], \"polyline\")"
      ]
     },
     "execution_count": 17,
     "metadata": {},
     "output_type": "execute_result"
    }
   ],
   "source": [
    "c.window[:children][1]"
   ]
  },
  {
   "cell_type": "code",
   "execution_count": 18,
   "metadata": {},
   "outputs": [
    {
     "data": {
      "text/plain": [
       "Dict{String, UnitRange{Int64}} with 3 entries:\n",
       "  \"UfTmDUxK\" => 3:3\n",
       "  \"n4XAapsy\" => 1:1\n",
       "  \"0uBrwhd5\" => 2:2"
      ]
     },
     "execution_count": 18,
     "metadata": {},
     "output_type": "execute_result"
    }
   ],
   "source": [
    "line!(c, [5, 1, 2], [7, 34, 5], \"stroke\" => \"red\", \"stroke-width\" => \"10\", \"fill\" => \"none\")"
   ]
  },
  {
   "cell_type": "code",
   "execution_count": 19,
   "metadata": {},
   "outputs": [
    {
     "data": {
      "text/html": [
       "\"<svg id=window height=500 width=500><polyline id=newline style='fill: none;stroke: black;stroke-width: 4;' points=500&#32;364,440&#32;191,300&#32;0,></polyline><polyline id=newline style='stroke-width: 5;fill: none;stroke: blue;' points=190&#32;0,500&#32;132,120&#32;392,></polyline><polyline id=newline style='stroke: red;stroke-width: 10;fill: none;' points=500&#32;397,100&#32;0,200&#32;426,></polyline></svg>\""
      ],
      "text/plain": [
       "Component{:svg}(\"window\", Toolips.var\"#f#80\"{String, String, Dict{Any, Any}, Vector{Servable}}(\"window\", \"svg\", Dict{Any, Any}(:children => Servable[Component{:polyline}(\"newline\", Toolips.var\"#f#80\"{String, String, Dict{Any, Any}, Vector{Servable}}(\"newline\", \"polyline\", Dict{Any, Any}(:children => Servable[], \"style\" => \"'fill: none;stroke: black;stroke-width: 4;'\", :points => \"500&#32;364,440&#32;191,300&#32;0,\"), Servable[]), Dict{Any, Any}(:children => Servable[], \"style\" => \"'fill: none;stroke: black;stroke-width: 4;'\", :points => \"500&#32;364,440&#32;191,300&#32;0,\"), Servable[], \"polyline\"), Component{:polyline}(\"newline\", Toolips.var\"#f#80\"{String, String, Dict{Any, Any}, Vector{Servable}}(\"newline\", \"polyline\", Dict{Any, Any}(:children => Servable[], \"style\" => \"'stroke-width: 5;fill: none;stroke: blue;'\", :points => \"190&#32;0,500&#32;132,120&#32;392,\"), Servable[]), Dict{Any, Any}(:children => Servable[], \"style\" => \"'stroke-width: 5;fill: none;stroke: blue;'\", :points => \"190&#32;0,500&#32;132,120&#32;392,\"), Servable[], \"polyline\"), Component{:polyline}(\"newline\", Toolips.var\"#f#80\"{String, String, Dict{Any, Any}, Vector{Servable}}(\"newline\", \"polyline\", Dict{Any, Any}(:children => Servable[], \"style\" => \"'stroke: red;stroke-width: 10;fill: none;'\", :points => \"500&#32;397,100&#32;0,200&#32;426,\"), Servable[]), Dict{Any, Any}(:children => Servable[], \"style\" => \"'stroke: red;stroke-width: 10;fill: none;'\", :points => \"500&#32;397,100&#32;0,200&#32;426,\"), Servable[], \"polyline\")], :height => 500, :width => 500), Servable[]), Dict{Any, Any}(:children => Servable[Component{:polyline}(\"newline\", Toolips.var\"#f#80\"{String, String, Dict{Any, Any}, Vector{Servable}}(\"newline\", \"polyline\", Dict{Any, Any}(:children => Servable[], \"style\" => \"'fill: none;stroke: black;stroke-width: 4;'\", :points => \"500&#32;364,440&#32;191,300&#32;0,\"), Servable[]), Dict{Any, Any}(:children => Servable[], \"style\" => \"'fill: none;stroke: black;stroke-width: 4;'\", :points => \"500&#32;364,440&#32;191,300&#32;0,\"), Servable[], \"polyline\"), Component{:polyline}(\"newline\", Toolips.var\"#f#80\"{String, String, Dict{Any, Any}, Vector{Servable}}(\"newline\", \"polyline\", Dict{Any, Any}(:children => Servable[], \"style\" => \"'stroke-width: 5;fill: none;stroke: blue;'\", :points => \"190&#32;0,500&#32;132,120&#32;392,\"), Servable[]), Dict{Any, Any}(:children => Servable[], \"style\" => \"'stroke-width: 5;fill: none;stroke: blue;'\", :points => \"190&#32;0,500&#32;132,120&#32;392,\"), Servable[], \"polyline\"), Component{:polyline}(\"newline\", Toolips.var\"#f#80\"{String, String, Dict{Any, Any}, Vector{Servable}}(\"newline\", \"polyline\", Dict{Any, Any}(:children => Servable[], \"style\" => \"'stroke: red;stroke-width: 10;fill: none;'\", :points => \"500&#32;397,100&#32;0,200&#32;426,\"), Servable[]), Dict{Any, Any}(:children => Servable[], \"style\" => \"'stroke: red;stroke-width: 10;fill: none;'\", :points => \"500&#32;397,100&#32;0,200&#32;426,\"), Servable[], \"polyline\")], :height => 500, :width => 500), Servable[], \"svg\")"
      ]
     },
     "metadata": {},
     "output_type": "display_data"
    }
   ],
   "source": [
    "display(c.window)"
   ]
  },
  {
   "cell_type": "code",
   "execution_count": 20,
   "metadata": {},
   "outputs": [
    {
     "data": {
      "text/plain": [
       "g (generic function with 1 method)"
      ]
     },
     "execution_count": 20,
     "metadata": {},
     "output_type": "execute_result"
    }
   ],
   "source": [
    "g(name::String, styles::Pair{String, String} ...; args ...) = begin\n",
    "    comp::Component{:g} = Component(name, \"g\", args ...)\n",
    "    if length(styles) != 0\n",
    "        style!(comp, styles ...)\n",
    "    end\n",
    "    comp::Component{:g}\n",
    "end"
   ]
  },
  {
   "cell_type": "code",
   "execution_count": 21,
   "metadata": {},
   "outputs": [],
   "source": [
    "mutable struct Group <: AbstractContext\n",
    "    window::Component{:g}\n",
    "    uuid::String\n",
    "    layers::Dict{String, UnitRange{Int64}}\n",
    "    dim::Pair{Int64, Int64}\n",
    "    margin::Pair{Int64, Int64}\n",
    "    Group(name::String = randstring(), width::Int64 = 1280, height::Int64 = 720,\n",
    "        margin::Pair{Int64, Int64} = 0 => 0) = begin\n",
    "        window::Component{:g} = g(\"$name\", width = width, height = height)\n",
    "        new(window, name, Dict{String, UnitRange{Int64}}(), width => height, margin)\n",
    "    end\n",
    "end"
   ]
  },
  {
   "cell_type": "code",
   "execution_count": 22,
   "metadata": {},
   "outputs": [
    {
     "data": {
      "text/plain": [
       "group! (generic function with 4 methods)"
      ]
     },
     "execution_count": 22,
     "metadata": {},
     "output_type": "execute_result"
    }
   ],
   "source": [
    "function group!(f::Function, c::Context, name::String, w::Int64 = c.dim[1], \n",
    "    h::Int64 = c.dim[2], margin::Pair{Int64, Int64} = c.margin)\n",
    "    gr = Group(name, w, h, margin)\n",
    "    f(gr)\n",
    "    draw!(c, [gr.window], name)\n",
    "end"
   ]
  },
  {
   "cell_type": "code",
   "execution_count": 23,
   "metadata": {},
   "outputs": [
    {
     "data": {
      "text/plain": [
       "Dict{String, UnitRange{Int64}} with 4 entries:\n",
       "  \"UfTmDUxK\"  => 3:3\n",
       "  \"n4XAapsy\"  => 1:1\n",
       "  \"0uBrwhd5\"  => 2:2\n",
       "  \"exampline\" => 4:4"
      ]
     },
     "execution_count": 23,
     "metadata": {},
     "output_type": "execute_result"
    }
   ],
   "source": [
    "group!(c, \"exampline\", 50, 50, 10 => 10) do g::Group\n",
    "    line!(g, [5, 10, 11], [9, 4, 3], \"stroke\" => \"green\", \"stroke-width\" => \"10\", \"fill\" => \"none\")\n",
    "end"
   ]
  },
  {
   "cell_type": "code",
   "execution_count": 24,
   "metadata": {},
   "outputs": [
    {
     "data": {
      "text/html": [
       "\"<svg id=window height=500 width=500><polyline id=newline style='fill: none;stroke: black;stroke-width: 4;' points=500&#32;364,440&#32;191,300&#32;0,></polyline><polyline id=newline style='stroke-width: 5;fill: none;stroke: blue;' points=190&#32;0,500&#32;132,120&#32;392,></polyline><polyline id=newline style='stroke: red;stroke-width: 10;fill: none;' points=500&#32;397,100&#32;0,200&#32;426,></polyline><g id=exampline height=50 width=50><polyline id=newline style='stroke: green;stroke-width: 10;fill: none;' points=33&#32;10,55&#32;38,60&#32;43,></polyline></g></svg>\""
      ],
      "text/plain": [
       "Component{:svg}(\"window\", Toolips.var\"#f#80\"{String, String, Dict{Any, Any}, Vector{Servable}}(\"window\", \"svg\", Dict{Any, Any}(:children => Servable[Component{:polyline}(\"newline\", Toolips.var\"#f#80\"{String, String, Dict{Any, Any}, Vector{Servable}}(\"newline\", \"polyline\", Dict{Any, Any}(:children => Servable[], \"style\" => \"'fill: none;stroke: black;stroke-width: 4;'\", :points => \"500&#32;364,440&#32;191,300&#32;0,\"), Servable[]), Dict{Any, Any}(:children => Servable[], \"style\" => \"'fill: none;stroke: black;stroke-width: 4;'\", :points => \"500&#32;364,440&#32;191,300&#32;0,\"), Servable[], \"polyline\"), Component{:polyline}(\"newline\", Toolips.var\"#f#80\"{String, String, Dict{Any, Any}, Vector{Servable}}(\"newline\", \"polyline\", Dict{Any, Any}(:children => Servable[], \"style\" => \"'stroke-width: 5;fill: none;stroke: blue;'\", :points => \"190&#32;0,500&#32;132,120&#32;392,\"), Servable[]), Dict{Any, Any}(:children => Servable[], \"style\" => \"'stroke-width: 5;fill: none;stroke: blue;'\", :points => \"190&#32;0,500&#32;132,120&#32;392,\"), Servable[], \"polyline\"), Component{:polyline}(\"newline\", Toolips.var\"#f#80\"{String, String, Dict{Any, Any}, Vector{Servable}}(\"newline\", \"polyline\", Dict{Any, Any}(:children => Servable[], \"style\" => \"'stroke: red;stroke-width: 10;fill: none;'\", :points => \"500&#32;397,100&#32;0,200&#32;426,\"), Servable[]), Dict{Any, Any}(:children => Servable[], \"style\" => \"'stroke: red;stroke-width: 10;fill: none;'\", :points => \"500&#32;397,100&#32;0,200&#32;426,\"), Servable[], \"polyline\"), Component{:g}(\"exampline\", Toolips.var\"#f#80\"{String, String, Dict{Any, Any}, Vector{Servable}}(\"exampline\", \"g\", Dict{Any, Any}(:children => Servable[Component{:polyline}(\"newline\", Toolips.var\"#f#80\"{String, String, Dict{Any, Any}, Vector{Servable}}(\"newline\", \"polyline\", Dict{Any, Any}(:children => Servable[], \"style\" => \"'stroke: green;stroke-width: 10;fill: none;'\", :points => \"33&#32;10,55&#32;38,60&#32;43,\"), Servable[]), Dict{Any, Any}(:children => Servable[], \"style\" => \"'stroke: green;stroke-width: 10;fill: none;'\", :points => \"33&#32;10,55&#32;38,60&#32;43,\"), Servable[], \"polyline\")], :height => 50, :width => 50), Servable[]), Dict{Any, Any}(:children => Servable[Component{:polyline}(\"newline\", Toolips.var\"#f#80\"{String, String, Dict{Any, Any}, Vector{Servable}}(\"newline\", \"polyline\", Dict{Any, Any}(:children => Servable[], \"style\" => \"'stroke: green;stroke-width: 10;fill: none;'\", :points => \"33&#32;10,55&#32;38,60&#32;43,\"), Servable[]), Dict{Any, Any}(:children => Servable[], \"style\" => \"'stroke: green;stroke-width: 10;fill: none;'\", :points => \"33&#32;10,55&#32;38,60&#32;43,\"), Servable[], \"polyline\")], :height => 50, :width => 50), Servable[], \"g\")], :height => 500, :width => 500), Servable[]), Dict{Any, Any}(:children => Servable[Component{:polyline}(\"newline\", Toolips.var\"#f#80\"{String, String, Dict{Any, Any}, Vector{Servable}}(\"newline\", \"polyline\", Dict{Any, Any}(:children => Servable[], \"style\" => \"'fill: none;stroke: black;stroke-width: 4;'\", :points => \"500&#32;364,440&#32;191,300&#32;0,\"), Servable[]), Dict{Any, Any}(:children => Servable[], \"style\" => \"'fill: none;stroke: black;stroke-width: 4;'\", :points => \"500&#32;364,440&#32;191,300&#32;0,\"), Servable[], \"polyline\"), Component{:polyline}(\"newline\", Toolips.var\"#f#80\"{String, String, Dict{Any, Any}, Vector{Servable}}(\"newline\", \"polyline\", Dict{Any, Any}(:children => Servable[], \"style\" => \"'stroke-width: 5;fill: none;stroke: blue;'\", :points => \"190&#32;0,500&#32;132,120&#32;392,\"), Servable[]), Dict{Any, Any}(:children => Servable[], \"style\" => \"'stroke-width: 5;fill: none;stroke: blue;'\", :points => \"190&#32;0,500&#32;132,120&#32;392,\"), Servable[], \"polyline\"), Component{:polyline}(\"newline\", Toolips.var\"#f#80\"{String, String, Dict{Any, Any}, Vector{Servable}}(\"newline\", \"polyline\", Dict{Any, Any}(:children => Servable[], \"style\" => \"'stroke: red;stroke-width: 10;fill: none;'\", :points => \"500&#32;397,100&#32;0,200&#32;426,\"), Servable[]), Dict{Any, Any}(:children => Servable[], \"style\" => \"'stroke: red;stroke-width: 10;fill: none;'\", :points => \"500&#32;397,100&#32;0,200&#32;426,\"), Servable[], \"polyline\"), Component{:g}(\"exampline\", Toolips.var\"#f#80\"{String, String, Dict{Any, Any}, Vector{Servable}}(\"exampline\", \"g\", Dict{Any, Any}(:children => Servable[Component{:polyline}(\"newline\", Toolips.var\"#f#80\"{String, String, Dict{Any, Any}, Vector{Servable}}(\"newline\", \"polyline\", Dict{Any, Any}(:children => Servable[], \"style\" => \"'stroke: green;stroke-width: 10;fill: none;'\", :points => \"33&#32;10,55&#32;38,60&#32;43,\"), Servable[]), Dict{Any, Any}(:children => Servable[], \"style\" => \"'stroke: green;stroke-width: 10;fill: none;'\", :points => \"33&#32;10,55&#32;38,60&#32;43,\"), Servable[], \"polyline\")], :height => 50, :width => 50), Servable[]), Dict{Any, Any}(:children => Servable[Component{:polyline}(\"newline\", Toolips.var\"#f#80\"{String, String, Dict{Any, Any}, Vector{Servable}}(\"newline\", \"polyline\", Dict{Any, Any}(:children => Servable[], \"style\" => \"'stroke: green;stroke-width: 10;fill: none;'\", :points => \"33&#32;10,55&#32;38,60&#32;43,\"), Servable[]), Dict{Any, Any}(:children => Servable[], \"style\" => \"'stroke: green;stroke-width: 10;fill: none;'\", :points => \"33&#32;10,55&#32;38,60&#32;43,\"), Servable[], \"polyline\")], :height => 50, :width => 50), Servable[], \"g\")], :height => 500, :width => 500), Servable[], \"svg\")"
      ]
     },
     "metadata": {},
     "output_type": "display_data"
    }
   ],
   "source": [
    "display(c.window)"
   ]
  },
  {
   "cell_type": "code",
   "execution_count": 25,
   "metadata": {},
   "outputs": [
    {
     "data": {
      "text/plain": [
       "line! (generic function with 2 methods)"
      ]
     },
     "execution_count": 25,
     "metadata": {},
     "output_type": "execute_result"
    }
   ],
   "source": [
    "function line!(con::AbstractContext, first::Pair{<:Number, <:Number},\n",
    "    second::Pair{<:Number, <:Number}, styles::Pair{String, <:Any} ...)\n",
    "    if length(styles) == 0\n",
    "        styles = (\"fill\" => \"none\", \"stroke\" => \"black\", \"stroke-width\" => \"4\")\n",
    "    end\n",
    "    ln = ToolipsSVG.line(randstring(), x1 = first[1], y1 = first[2],\n",
    "    x2 = second[1], y2 = second[2])\n",
    "    style!(ln, styles ...)\n",
    "    draw!(con, [ln])\n",
    "end"
   ]
  },
  {
   "cell_type": "code",
   "execution_count": 26,
   "metadata": {},
   "outputs": [
    {
     "data": {
      "text/plain": [
       "Dict{String, UnitRange{Int64}} with 5 entries:\n",
       "  \"UfTmDUxK\"  => 3:3\n",
       "  \"n4XAapsy\"  => 1:1\n",
       "  \"0uBrwhd5\"  => 2:2\n",
       "  \"exampline\" => 4:4\n",
       "  \"aLX7305b\"  => 5:5"
      ]
     },
     "execution_count": 26,
     "metadata": {},
     "output_type": "execute_result"
    }
   ],
   "source": [
    "line!(c, 5 => 5, 200 => 200)"
   ]
  },
  {
   "cell_type": "code",
   "execution_count": 27,
   "metadata": {},
   "outputs": [
    {
     "data": {
      "text/html": [
       "\"<svg id=window height=500 width=500><polyline id=newline style='fill: none;stroke: black;stroke-width: 4;' points=500&#32;364,440&#32;191,300&#32;0,></polyline><polyline id=newline style='stroke-width: 5;fill: none;stroke: blue;' points=190&#32;0,500&#32;132,120&#32;392,></polyline><polyline id=newline style='stroke: red;stroke-width: 10;fill: none;' points=500&#32;397,100&#32;0,200&#32;426,></polyline><g id=exampline height=50 width=50><polyline id=newline style='stroke: green;stroke-width: 10;fill: none;' points=33&#32;10,55&#32;38,60&#32;43,></polyline></g><line id=gkciXfZG y1=5 x2=200 style='fill: none;stroke: black;stroke-width: 4;' y2=200 x1=5></line></svg>\""
      ],
      "text/plain": [
       "Component{:svg}(\"window\", Toolips.var\"#f#80\"{String, String, Dict{Any, Any}, Vector{Servable}}(\"window\", \"svg\", Dict{Any, Any}(:children => Servable[Component{:polyline}(\"newline\", Toolips.var\"#f#80\"{String, String, Dict{Any, Any}, Vector{Servable}}(\"newline\", \"polyline\", Dict{Any, Any}(:children => Servable[], \"style\" => \"'fill: none;stroke: black;stroke-width: 4;'\", :points => \"500&#32;364,440&#32;191,300&#32;0,\"), Servable[]), Dict{Any, Any}(:children => Servable[], \"style\" => \"'fill: none;stroke: black;stroke-width: 4;'\", :points => \"500&#32;364,440&#32;191,300&#32;0,\"), Servable[], \"polyline\"), Component{:polyline}(\"newline\", Toolips.var\"#f#80\"{String, String, Dict{Any, Any}, Vector{Servable}}(\"newline\", \"polyline\", Dict{Any, Any}(:children => Servable[], \"style\" => \"'stroke-width: 5;fill: none;stroke: blue;'\", :points => \"190&#32;0,500&#32;132,120&#32;392,\"), Servable[]), Dict{Any, Any}(:children => Servable[], \"style\" => \"'stroke-width: 5;fill: none;stroke: blue;'\", :points => \"190&#32;0,500&#32;132,120&#32;392,\"), Servable[], \"polyline\"), Component{:polyline}(\"newline\", Toolips.var\"#f#80\"{String, String, Dict{Any, Any}, Vector{Servable}}(\"newline\", \"polyline\", Dict{Any, Any}(:children => Servable[], \"style\" => \"'stroke: red;stroke-width: 10;fill: none;'\", :points => \"500&#32;397,100&#32;0,200&#32;426,\"), Servable[]), Dict{Any, Any}(:children => Servable[], \"style\" => \"'stroke: red;stroke-width: 10;fill: none;'\", :points => \"500&#32;397,100&#32;0,200&#32;426,\"), Servable[], \"polyline\"), Component{:g}(\"exampline\", Toolips.var\"#f#80\"{String, String, Dict{Any, Any}, Vector{Servable}}(\"exampline\", \"g\", Dict{Any, Any}(:children => Servable[Component{:polyline}(\"newline\", Toolips.var\"#f#80\"{String, String, Dict{Any, Any}, Vector{Servable}}(\"newline\", \"polyline\", Dict{Any, Any}(:children => Servable[], \"style\" => \"'stroke: green;stroke-width: 10;fill: none;'\", :points => \"33&#32;10,55&#32;38,60&#32;43,\"), Servable[]), Dict{Any, Any}(:children => Servable[], \"style\" => \"'stroke: green;stroke-width: 10;fill: none;'\", :points => \"33&#32;10,55&#32;38,60&#32;43,\"), Servable[], \"polyline\")], :height => 50, :width => 50), Servable[]), Dict{Any, Any}(:children => Servable[Component{:polyline}(\"newline\", Toolips.var\"#f#80\"{String, String, Dict{Any, Any}, Vector{Servable}}(\"newline\", \"polyline\", Dict{Any, Any}(:children => Servable[], \"style\" => \"'stroke: green;stroke-width: 10;fill: none;'\", :points => \"33&#32;10,55&#32;38,60&#32;43,\"), Servable[]), Dict{Any, Any}(:children => Servable[], \"style\" => \"'stroke: green;stroke-width: 10;fill: none;'\", :points => \"33&#32;10,55&#32;38,60&#32;43,\"), Servable[], \"polyline\")], :height => 50, :width => 50), Servable[], \"g\"), Component{:line}(\"gkciXfZG\", Toolips.var\"#f#80\"{String, String, Dict{Any, Any}, Vector{Servable}}(\"gkciXfZG\", \"line\", Dict{Any, Any}(:children => Servable[], :y1 => 5, :x2 => 200, \"style\" => \"'fill: none;stroke: black;stroke-width: 4;'\", :y2 => 200, :x1 => 5), Servable[]), Dict{Any, Any}(:children => Servable[], :y1 => 5, :x2 => 200, \"style\" => \"'fill: none;stroke: black;stroke-width: 4;'\", :y2 => 200, :x1 => 5), Servable[], \"line\")], :height => 500, :width => 500), Servable[]), Dict{Any, Any}(:children => Servable[Component{:polyline}(\"newline\", Toolips.var\"#f#80\"{String, String, Dict{Any, Any}, Vector{Servable}}(\"newline\", \"polyline\", Dict{Any, Any}(:children => Servable[], \"style\" => \"'fill: none;stroke: black;stroke-width: 4;'\", :points => \"500&#32;364,440&#32;191,300&#32;0,\"), Servable[]), Dict{Any, Any}(:children => Servable[], \"style\" => \"'fill: none;stroke: black;stroke-width: 4;'\", :points => \"500&#32;364,440&#32;191,300&#32;0,\"), Servable[], \"polyline\"), Component{:polyline}(\"newline\", Toolips.var\"#f#80\"{String, String, Dict{Any, Any}, Vector{Servable}}(\"newline\", \"polyline\", Dict{Any, Any}(:children => Servable[], \"style\" => \"'stroke-width: 5;fill: none;stroke: blue;'\", :points => \"190&#32;0,500&#32;132,120&#32;392,\"), Servable[]), Dict{Any, Any}(:children => Servable[], \"style\" => \"'stroke-width: 5;fill: none;stroke: blue;'\", :points => \"190&#32;0,500&#32;132,120&#32;392,\"), Servable[], \"polyline\"), Component{:polyline}(\"newline\", Toolips.var\"#f#80\"{String, String, Dict{Any, Any}, Vector{Servable}}(\"newline\", \"polyline\", Dict{Any, Any}(:children => Servable[], \"style\" => \"'stroke: red;stroke-width: 10;fill: none;'\", :points => \"500&#32;397,100&#32;0,200&#32;426,\"), Servable[]), Dict{Any, Any}(:children => Servable[], \"style\" => \"'stroke: red;stroke-width: 10;fill: none;'\", :points => \"500&#32;397,100&#32;0,200&#32;426,\"), Servable[], \"polyline\"), Component{:g}(\"exampline\", Toolips.var\"#f#80\"{String, String, Dict{Any, Any}, Vector{Servable}}(\"exampline\", \"g\", Dict{Any, Any}(:children => Servable[Component{:polyline}(\"newline\", Toolips.var\"#f#80\"{String, String, Dict{Any, Any}, Vector{Servable}}(\"newline\", \"polyline\", Dict{Any, Any}(:children => Servable[], \"style\" => \"'stroke: green;stroke-width: 10;fill: none;'\", :points => \"33&#32;10,55&#32;38,60&#32;43,\"), Servable[]), Dict{Any, Any}(:children => Servable[], \"style\" => \"'stroke: green;stroke-width: 10;fill: none;'\", :points => \"33&#32;10,55&#32;38,60&#32;43,\"), Servable[], \"polyline\")], :height => 50, :width => 50), Servable[]), Dict{Any, Any}(:children => Servable[Component{:polyline}(\"newline\", Toolips.var\"#f#80\"{String, String, Dict{Any, Any}, Vector{Servable}}(\"newline\", \"polyline\", Dict{Any, Any}(:children => Servable[], \"style\" => \"'stroke: green;stroke-width: 10;fill: none;'\", :points => \"33&#32;10,55&#32;38,60&#32;43,\"), Servable[]), Dict{Any, Any}(:children => Servable[], \"style\" => \"'stroke: green;stroke-width: 10;fill: none;'\", :points => \"33&#32;10,55&#32;38,60&#32;43,\"), Servable[], \"polyline\")], :height => 50, :width => 50), Servable[], \"g\"), Component{:line}(\"gkciXfZG\", Toolips.var\"#f#80\"{String, String, Dict{Any, Any}, Vector{Servable}}(\"gkciXfZG\", \"line\", Dict{Any, Any}(:children => Servable[], :y1 => 5, :x2 => 200, \"style\" => \"'fill: none;stroke: black;stroke-width: 4;'\", :y2 => 200, :x1 => 5), Servable[]), Dict{Any, Any}(:children => Servable[], :y1 => 5, :x2 => 200, \"style\" => \"'fill: none;stroke: black;stroke-width: 4;'\", :y2 => 200, :x1 => 5), Servable[], \"line\")], :height => 500, :width => 500), Servable[], \"svg\")"
      ]
     },
     "execution_count": 27,
     "metadata": {},
     "output_type": "execute_result"
    }
   ],
   "source": [
    "c.window"
   ]
  },
  {
   "cell_type": "code",
   "execution_count": 28,
   "metadata": {},
   "outputs": [
    {
     "data": {
      "text/plain": [
       "Context(Component{:svg}(\"window\", Toolips.var\"#f#80\"{String, String, Dict{Any, Any}, Vector{Servable}}(\"window\", \"svg\", Dict{Any, Any}(:children => Servable[], :height => 720, :width => 1280), Servable[]), Dict{Any, Any}(:children => Servable[], :height => 720, :width => 1280), Servable[], \"svg\"), \"dUJCpC7u\", Dict{String, UnitRange{Int64}}(), 1280 => 720, 0 => 0)"
      ]
     },
     "execution_count": 28,
     "metadata": {},
     "output_type": "execute_result"
    }
   ],
   "source": [
    "c = Context()"
   ]
  },
  {
   "cell_type": "code",
   "execution_count": 29,
   "metadata": {},
   "outputs": [
    {
     "data": {
      "text/plain": [
       "Dict{String, UnitRange{Int64}} with 1 entry:\n",
       "  \"HDzWKNmu\" => 1:1"
      ]
     },
     "execution_count": 29,
     "metadata": {},
     "output_type": "execute_result"
    }
   ],
   "source": [
    "line!(c, 5 => 5, 200 => 200)"
   ]
  },
  {
   "cell_type": "code",
   "execution_count": 30,
   "metadata": {},
   "outputs": [
    {
     "data": {
      "text/html": [
       "\"<svg id=window height=720 width=1280><line id=qDAqxjcy y1=5 x2=200 style='fill: none;stroke: black;stroke-width: 4;' y2=200 x1=5></line></svg>\""
      ],
      "text/plain": [
       "Component{:svg}(\"window\", Toolips.var\"#f#80\"{String, String, Dict{Any, Any}, Vector{Servable}}(\"window\", \"svg\", Dict{Any, Any}(:children => Servable[Component{:line}(\"qDAqxjcy\", Toolips.var\"#f#80\"{String, String, Dict{Any, Any}, Vector{Servable}}(\"qDAqxjcy\", \"line\", Dict{Any, Any}(:children => Servable[], :y1 => 5, :x2 => 200, \"style\" => \"'fill: none;stroke: black;stroke-width: 4;'\", :y2 => 200, :x1 => 5), Servable[]), Dict{Any, Any}(:children => Servable[], :y1 => 5, :x2 => 200, \"style\" => \"'fill: none;stroke: black;stroke-width: 4;'\", :y2 => 200, :x1 => 5), Servable[], \"line\")], :height => 720, :width => 1280), Servable[]), Dict{Any, Any}(:children => Servable[Component{:line}(\"qDAqxjcy\", Toolips.var\"#f#80\"{String, String, Dict{Any, Any}, Vector{Servable}}(\"qDAqxjcy\", \"line\", Dict{Any, Any}(:children => Servable[], :y1 => 5, :x2 => 200, \"style\" => \"'fill: none;stroke: black;stroke-width: 4;'\", :y2 => 200, :x1 => 5), Servable[]), Dict{Any, Any}(:children => Servable[], :y1 => 5, :x2 => 200, \"style\" => \"'fill: none;stroke: black;stroke-width: 4;'\", :y2 => 200, :x1 => 5), Servable[], \"line\")], :height => 720, :width => 1280), Servable[], \"svg\")"
      ]
     },
     "metadata": {},
     "output_type": "display_data"
    }
   ],
   "source": [
    "display(c.window)"
   ]
  },
  {
   "cell_type": "code",
   "execution_count": 31,
   "metadata": {},
   "outputs": [
    {
     "data": {
      "text/plain": [
       "Context(Component{:svg}(\"window\", Toolips.var\"#f#80\"{String, String, Dict{Any, Any}, Vector{Servable}}(\"window\", \"svg\", Dict{Any, Any}(:children => Servable[], :height => 500, :width => 500), Servable[]), Dict{Any, Any}(:children => Servable[], :height => 500, :width => 500), Servable[], \"svg\"), \"XmkDWchB\", Dict{String, UnitRange{Int64}}(), 500 => 500, 0 => 0)"
      ]
     },
     "execution_count": 31,
     "metadata": {},
     "output_type": "execute_result"
    }
   ],
   "source": [
    "plt = Context(500, 500)"
   ]
  },
  {
   "cell_type": "code",
   "execution_count": 32,
   "metadata": {},
   "outputs": [
    {
     "data": {
      "text/plain": [
       "axes! (generic function with 1 method)"
      ]
     },
     "execution_count": 32,
     "metadata": {},
     "output_type": "execute_result"
    }
   ],
   "source": [
    "function axes!(con::AbstractContext, styles::Pair{String, <:Any} ...)\n",
    "    if length(styles) == 0\n",
    "        styles = (\"fill\" => \"none\", \"stroke\" => \"black\", \"stroke-width\" => \"4\")\n",
    "    end\n",
    "    line!(con, con.margin[1] => con.dim[2] + con.margin[2], con.dim[1] + con.margin[1] => con.dim[2] + con.margin[2], styles ...)\n",
    "    line!(con, con.margin[1] => con.margin[2], con.margin[1] => con.dim[2] + con.margin[2], styles ...)\n",
    "end"
   ]
  },
  {
   "cell_type": "code",
   "execution_count": 33,
   "metadata": {},
   "outputs": [
    {
     "data": {
      "text/html": [
       "\"<svg id=window height=500 width=500></svg>\""
      ],
      "text/plain": [
       "Component{:svg}(\"window\", Toolips.var\"#f#80\"{String, String, Dict{Any, Any}, Vector{Servable}}(\"window\", \"svg\", Dict{Any, Any}(:children => Servable[], :height => 500, :width => 500), Servable[]), Dict{Any, Any}(:children => Servable[], :height => 500, :width => 500), Servable[], \"svg\")"
      ]
     },
     "metadata": {},
     "output_type": "display_data"
    }
   ],
   "source": [
    "display(plt.window)"
   ]
  },
  {
   "cell_type": "code",
   "execution_count": 34,
   "metadata": {},
   "outputs": [
    {
     "data": {
      "text/plain": [
       "Servable[]"
      ]
     },
     "execution_count": 34,
     "metadata": {},
     "output_type": "execute_result"
    }
   ],
   "source": [
    "plt.window[:children]"
   ]
  },
  {
   "cell_type": "code",
   "execution_count": 35,
   "metadata": {},
   "outputs": [
    {
     "data": {
      "text/plain": [
       "grid! (generic function with 2 methods)"
      ]
     },
     "execution_count": 35,
     "metadata": {},
     "output_type": "execute_result"
    }
   ],
   "source": [
    "function grid!(con::AbstractContext, n::Int64 = 4, styles::Pair{String, <:Any} ...)\n",
    "    if length(styles) == 0\n",
    "        styles = (\"fill\" => \"none\", \"stroke\" => \"lightblue\", \"stroke-width\" => \"1\", \"opacity\" => 80percent)\n",
    "    end\n",
    "    mx = con.margin[1]\n",
    "    my = con.margin[2]\n",
    "    division_amountx::Int64 = round((con.dim[1]) / n)\n",
    "    division_amounty::Int64 = round((con.dim[2]) / n)\n",
    "    [begin\n",
    "        line!(con, xcoord + mx => 0 + my, xcoord + mx => con.dim[2] + my, styles ...)\n",
    "        line!(con, 0 + mx => ycoord + my, con.dim[1] + mx => ycoord + my, styles ...)\n",
    "    end for (xcoord, ycoord) in zip(\n",
    "    range(1, con.dim[1],\n",
    "    step = division_amountx), range(1, con.dim[2], step = division_amounty))]\n",
    "end"
   ]
  },
  {
   "cell_type": "code",
   "execution_count": 36,
   "metadata": {},
   "outputs": [
    {
     "data": {
      "text/plain": [
       "Dict{String, UnitRange{Int64}} with 2 entries:\n",
       "  \"lUlgBRYv\" => 1:1\n",
       "  \"9f4wfqHA\" => 2:2"
      ]
     },
     "execution_count": 36,
     "metadata": {},
     "output_type": "execute_result"
    }
   ],
   "source": [
    "axes!(plt)"
   ]
  },
  {
   "cell_type": "code",
   "execution_count": 37,
   "metadata": {},
   "outputs": [
    {
     "data": {
      "text/plain": [
       "4-element Vector{Dict{String, UnitRange{Int64}}}:\n",
       " Dict(\"EkeN7QN9\" => 7:7, \"e0847Skn\" => 6:6, \"9ktQQMiI\" => 8:8, \"rYpvIYcU\" => 10:10, \"1PqZlGgO\" => 9:9, \"lUlgBRYv\" => 1:1, \"9f4wfqHA\" => 2:2, \"Xb1pU2p0\" => 4:4, \"LpZI4o8M\" => 3:3, \"WeZEx1ic\" => 5:5…)\n",
       " Dict(\"EkeN7QN9\" => 7:7, \"e0847Skn\" => 6:6, \"9ktQQMiI\" => 8:8, \"rYpvIYcU\" => 10:10, \"1PqZlGgO\" => 9:9, \"lUlgBRYv\" => 1:1, \"9f4wfqHA\" => 2:2, \"Xb1pU2p0\" => 4:4, \"LpZI4o8M\" => 3:3, \"WeZEx1ic\" => 5:5…)\n",
       " Dict(\"EkeN7QN9\" => 7:7, \"e0847Skn\" => 6:6, \"9ktQQMiI\" => 8:8, \"rYpvIYcU\" => 10:10, \"1PqZlGgO\" => 9:9, \"lUlgBRYv\" => 1:1, \"9f4wfqHA\" => 2:2, \"Xb1pU2p0\" => 4:4, \"LpZI4o8M\" => 3:3, \"WeZEx1ic\" => 5:5…)\n",
       " Dict(\"EkeN7QN9\" => 7:7, \"e0847Skn\" => 6:6, \"9ktQQMiI\" => 8:8, \"rYpvIYcU\" => 10:10, \"1PqZlGgO\" => 9:9, \"lUlgBRYv\" => 1:1, \"9f4wfqHA\" => 2:2, \"Xb1pU2p0\" => 4:4, \"LpZI4o8M\" => 3:3, \"WeZEx1ic\" => 5:5…)"
      ]
     },
     "execution_count": 37,
     "metadata": {},
     "output_type": "execute_result"
    }
   ],
   "source": [
    "grid!(plt, 4)"
   ]
  },
  {
   "cell_type": "code",
   "execution_count": 38,
   "metadata": {},
   "outputs": [
    {
     "data": {
      "text/html": [
       "\"<svg id=window height=500 width=500><line id=6HAoQOr7 y1=500 x2=500 style='fill: none;stroke: black;stroke-width: 4;' y2=500 x1=0></line><line id=RSLhtE9A y1=0 x2=0 style='fill: none;stroke: black;stroke-width: 4;' y2=500 x1=0></line><line id=zNjkOjOb y1=0 x2=1 style='fill: none;stroke: lightblue;stroke-width: 1;opacity: 80%;' y2=500 x1=1></line><line id=mvTWzIIp y1=1 x2=500 style='fill: none;stroke: lightblue;stroke-width: 1;opacity: 80%;' y2=1 x1=0></line><line id=UatZlxMa y1=0 x2=126 style='fill: none;stroke: lightblue;stroke-width: 1;opacity: 80%;' y2=500 x1=126></line><line id=WJAJ5z73 y1=126 x2=500 style='fill: none;stroke: lightblue;stroke-width: 1;opacity: 80%;' y2=126 x1=0></line><line id=yEpnL2KW y1=0 x2=251 style='fill: none;stroke: lightblue;stroke-width: 1;opacity: 80%;' y2=500 x1=251></line><line id=5ax1jm97 y1=251 x2=500 style='fill: none;stroke: lightblue;stroke-width: 1;opacity: 80%;' y2=251 x1=0></line><line id=3rEldOZF y1=0 x2=376 style='fill: none;stroke: lightblue;stroke-width: 1;opacity: 80%;' y2=500 x1=376></line><line id=uja3rHIE y1=376 x2=500 style='fill: none;stroke: lightblue;stroke-width: 1;opacity: 80%;' y2=376 x1=0></line></svg>\""
      ],
      "text/plain": [
       "Component{:svg}(\"window\", Toolips.var\"#f#80\"{String, String, Dict{Any, Any}, Vector{Servable}}(\"window\", \"svg\", Dict{Any, Any}(:children => Servable[Component{:line}(\"6HAoQOr7\", Toolips.var\"#f#80\"{String, String, Dict{Any, Any}, Vector{Servable}}(\"6HAoQOr7\", \"line\", Dict{Any, Any}(:children => Servable[], :y1 => 500, :x2 => 500, \"style\" => \"'fill: none;stroke: black;stroke-width: 4;'\", :y2 => 500, :x1 => 0), Servable[]), Dict{Any, Any}(:children => Servable[], :y1 => 500, :x2 => 500, \"style\" => \"'fill: none;stroke: black;stroke-width: 4;'\", :y2 => 500, :x1 => 0), Servable[], \"line\"), Component{:line}(\"RSLhtE9A\", Toolips.var\"#f#80\"{String, String, Dict{Any, Any}, Vector{Servable}}(\"RSLhtE9A\", \"line\", Dict{Any, Any}(:children => Servable[], :y1 => 0, :x2 => 0, \"style\" => \"'fill: none;stroke: black;stroke-width: 4;'\", :y2 => 500, :x1 => 0), Servable[]), Dict{Any, Any}(:children => Servable[], :y1 => 0, :x2 => 0, \"style\" => \"'fill: none;stroke: black;stroke-width: 4;'\", :y2 => 500, :x1 => 0), Servable[], \"line\"), Component{:line}(\"zNjkOjOb\", Toolips.var\"#f#80\"{String, String, Dict{Any, Any}, Vector{Servable}}(\"zNjkOjOb\", \"line\", Dict{Any, Any}(:children => Servable[], :y1 => 0, :x2 => 1, \"style\" => \"'fill: none;stroke: lightblue;stroke-width: 1;opacity: 80%;'\", :y2 => 500, :x1 => 1), Servable[]), Dict{Any, Any}(:children => Servable[], :y1 => 0, :x2 => 1, \"style\" => \"'fill: none;stroke: lightblue;stroke-width: 1;opacity: 80%;'\", :y2 => 500, :x1 => 1), Servable[], \"line\"), Component{:line}(\"mvTWzIIp\", Toolips.var\"#f#80\"{String, String, Dict{Any, Any}, Vector{Servable}}(\"mvTWzIIp\", \"line\", Dict{Any, Any}(:children => Servable[], :y1 => 1, :x2 => 500, \"style\" => \"'fill: none;stroke: lightblue;stroke-width: 1;opacity: 80%;'\", :y2 => 1, :x1 => 0), Servable[]), Dict{Any, Any}(:children => Servable[], :y1 => 1, :x2 => 500, \"style\" => \"'fill: none;stroke: lightblue;stroke-width: 1;opacity: 80%;'\", :y2 => 1, :x1 => 0), Servable[], \"line\"), Component{:line}(\"UatZlxMa\", Toolips.var\"#f#80\"{String, String, Dict{Any, Any}, Vector{Servable}}(\"UatZlxMa\", \"line\", Dict{Any, Any}(:children => Servable[], :y1 => 0, :x2 => 126, \"style\" => \"'fill: none;stroke: lightblue;stroke-width: 1;opacity: 80%;'\", :y2 => 500, :x1 => 126), Servable[]), Dict{Any, Any}(:children => Servable[], :y1 => 0, :x2 => 126, \"style\" => \"'fill: none;stroke: lightblue;stroke-width: 1;opacity: 80%;'\", :y2 => 500, :x1 => 126), Servable[], \"line\"), Component{:line}(\"WJAJ5z73\", Toolips.var\"#f#80\"{String, String, Dict{Any, Any}, Vector{Servable}}(\"WJAJ5z73\", \"line\", Dict{Any, Any}(:children => Servable[], :y1 => 126, :x2 => 500, \"style\" => \"'fill: none;stroke: lightblue;stroke-width: 1;opacity: 80%;'\", :y2 => 126, :x1 => 0), Servable[]), Dict{Any, Any}(:children => Servable[], :y1 => 126, :x2 => 500, \"style\" => \"'fill: none;stroke: lightblue;stroke-width: 1;opacity: 80%;'\", :y2 => 126, :x1 => 0), Servable[], \"line\"), Component{:line}(\"yEpnL2KW\", Toolips.var\"#f#80\"{String, String, Dict{Any, Any}, Vector{Servable}}(\"yEpnL2KW\", \"line\", Dict{Any, Any}(:children => Servable[], :y1 => 0, :x2 => 251, \"style\" => \"'fill: none;stroke: lightblue;stroke-width: 1;opacity: 80%;'\", :y2 => 500, :x1 => 251), Servable[]), Dict{Any, Any}(:children => Servable[], :y1 => 0, :x2 => 251, \"style\" => \"'fill: none;stroke: lightblue;stroke-width: 1;opacity: 80%;'\", :y2 => 500, :x1 => 251), Servable[], \"line\"), Component{:line}(\"5ax1jm97\", Toolips.var\"#f#80\"{String, String, Dict{Any, Any}, Vector{Servable}}(\"5ax1jm97\", \"line\", Dict{Any, Any}(:children => Servable[], :y1 => 251, :x2 => 500, \"style\" => \"'fill: none;stroke: lightblue;stroke-width: 1;opacity: 80%;'\", :y2 => 251, :x1 => 0), Servable[]), Dict{Any, Any}(:children => Servable[], :y1 => 251, :x2 => 500, \"style\" => \"'fill: none;stroke: lightblue;stroke-width: 1;opacity: 80%;'\", :y2 => 251, :x1 => 0), Servable[], \"line\"), Component{:line}(\"3rEldOZF\", Toolips.var\"#f#80\"{String, String, Dict{Any, Any}, Vector{Servable}}(\"3rEldOZF\", \"line\", Dict{Any, Any}(:children => Servable[], :y1 => 0, :x2 => 376, \"style\" => \"'fill: none;stroke: lightblue;stroke-width: 1;opacity: 80%;'\", :y2 => 500, :x1 => 376), Servable[]), Dict{Any, Any}(:children => Servable[], :y1 => 0, :x2 => 376, \"style\" => \"'fill: none;stroke: lightblue;stroke-width: 1;opacity: 80%;'\", :y2 => 500, :x1 => 376), Servable[], \"line\"), Component{:line}(\"uja3rHIE\", Toolips.var\"#f#80\"{String, String, Dict{Any, Any}, Vector{Servable}}(\"uja3rHIE\", \"line\", Dict{Any, Any}(:children => Servable[], :y1 => 376, :x2 => 500, \"style\" => \"'fill: none;stroke: lightblue;stroke-width: 1;opacity: 80%;'\", :y2 => 376, :x1 => 0), Servable[]), Dict{Any, Any}(:children => Servable[], :y1 => 376, :x2 => 500, \"style\" => \"'fill: none;stroke: lightblue;stroke-width: 1;opacity: 80%;'\", :y2 => 376, :x1 => 0), Servable[], \"line\")], :height => 500, :width => 500), Servable[]), Dict{Any, Any}(:children => Servable[Component{:line}(\"6HAoQOr7\", Toolips.var\"#f#80\"{String, String, Dict{Any, Any}, Vector{Servable}}(\"6HAoQOr7\", \"line\", Dict{Any, Any}(:children => Servable[], :y1 => 500, :x2 => 500, \"style\" => \"'fill: none;stroke: black;stroke-width: 4;'\", :y2 => 500, :x1 => 0), Servable[]), Dict{Any, Any}(:children => Servable[], :y1 => 500, :x2 => 500, \"style\" => \"'fill: none;stroke: black;stroke-width: 4;'\", :y2 => 500, :x1 => 0), Servable[], \"line\"), Component{:line}(\"RSLhtE9A\", Toolips.var\"#f#80\"{String, String, Dict{Any, Any}, Vector{Servable}}(\"RSLhtE9A\", \"line\", Dict{Any, Any}(:children => Servable[], :y1 => 0, :x2 => 0, \"style\" => \"'fill: none;stroke: black;stroke-width: 4;'\", :y2 => 500, :x1 => 0), Servable[]), Dict{Any, Any}(:children => Servable[], :y1 => 0, :x2 => 0, \"style\" => \"'fill: none;stroke: black;stroke-width: 4;'\", :y2 => 500, :x1 => 0), Servable[], \"line\"), Component{:line}(\"zNjkOjOb\", Toolips.var\"#f#80\"{String, String, Dict{Any, Any}, Vector{Servable}}(\"zNjkOjOb\", \"line\", Dict{Any, Any}(:children => Servable[], :y1 => 0, :x2 => 1, \"style\" => \"'fill: none;stroke: lightblue;stroke-width: 1;opacity: 80%;'\", :y2 => 500, :x1 => 1), Servable[]), Dict{Any, Any}(:children => Servable[], :y1 => 0, :x2 => 1, \"style\" => \"'fill: none;stroke: lightblue;stroke-width: 1;opacity: 80%;'\", :y2 => 500, :x1 => 1), Servable[], \"line\"), Component{:line}(\"mvTWzIIp\", Toolips.var\"#f#80\"{String, String, Dict{Any, Any}, Vector{Servable}}(\"mvTWzIIp\", \"line\", Dict{Any, Any}(:children => Servable[], :y1 => 1, :x2 => 500, \"style\" => \"'fill: none;stroke: lightblue;stroke-width: 1;opacity: 80%;'\", :y2 => 1, :x1 => 0), Servable[]), Dict{Any, Any}(:children => Servable[], :y1 => 1, :x2 => 500, \"style\" => \"'fill: none;stroke: lightblue;stroke-width: 1;opacity: 80%;'\", :y2 => 1, :x1 => 0), Servable[], \"line\"), Component{:line}(\"UatZlxMa\", Toolips.var\"#f#80\"{String, String, Dict{Any, Any}, Vector{Servable}}(\"UatZlxMa\", \"line\", Dict{Any, Any}(:children => Servable[], :y1 => 0, :x2 => 126, \"style\" => \"'fill: none;stroke: lightblue;stroke-width: 1;opacity: 80%;'\", :y2 => 500, :x1 => 126), Servable[]), Dict{Any, Any}(:children => Servable[], :y1 => 0, :x2 => 126, \"style\" => \"'fill: none;stroke: lightblue;stroke-width: 1;opacity: 80%;'\", :y2 => 500, :x1 => 126), Servable[], \"line\"), Component{:line}(\"WJAJ5z73\", Toolips.var\"#f#80\"{String, String, Dict{Any, Any}, Vector{Servable}}(\"WJAJ5z73\", \"line\", Dict{Any, Any}(:children => Servable[], :y1 => 126, :x2 => 500, \"style\" => \"'fill: none;stroke: lightblue;stroke-width: 1;opacity: 80%;'\", :y2 => 126, :x1 => 0), Servable[]), Dict{Any, Any}(:children => Servable[], :y1 => 126, :x2 => 500, \"style\" => \"'fill: none;stroke: lightblue;stroke-width: 1;opacity: 80%;'\", :y2 => 126, :x1 => 0), Servable[], \"line\"), Component{:line}(\"yEpnL2KW\", Toolips.var\"#f#80\"{String, String, Dict{Any, Any}, Vector{Servable}}(\"yEpnL2KW\", \"line\", Dict{Any, Any}(:children => Servable[], :y1 => 0, :x2 => 251, \"style\" => \"'fill: none;stroke: lightblue;stroke-width: 1;opacity: 80%;'\", :y2 => 500, :x1 => 251), Servable[]), Dict{Any, Any}(:children => Servable[], :y1 => 0, :x2 => 251, \"style\" => \"'fill: none;stroke: lightblue;stroke-width: 1;opacity: 80%;'\", :y2 => 500, :x1 => 251), Servable[], \"line\"), Component{:line}(\"5ax1jm97\", Toolips.var\"#f#80\"{String, String, Dict{Any, Any}, Vector{Servable}}(\"5ax1jm97\", \"line\", Dict{Any, Any}(:children => Servable[], :y1 => 251, :x2 => 500, \"style\" => \"'fill: none;stroke: lightblue;stroke-width: 1;opacity: 80%;'\", :y2 => 251, :x1 => 0), Servable[]), Dict{Any, Any}(:children => Servable[], :y1 => 251, :x2 => 500, \"style\" => \"'fill: none;stroke: lightblue;stroke-width: 1;opacity: 80%;'\", :y2 => 251, :x1 => 0), Servable[], \"line\"), Component{:line}(\"3rEldOZF\", Toolips.var\"#f#80\"{String, String, Dict{Any, Any}, Vector{Servable}}(\"3rEldOZF\", \"line\", Dict{Any, Any}(:children => Servable[], :y1 => 0, :x2 => 376, \"style\" => \"'fill: none;stroke: lightblue;stroke-width: 1;opacity: 80%;'\", :y2 => 500, :x1 => 376), Servable[]), Dict{Any, Any}(:children => Servable[], :y1 => 0, :x2 => 376, \"style\" => \"'fill: none;stroke: lightblue;stroke-width: 1;opacity: 80%;'\", :y2 => 500, :x1 => 376), Servable[], \"line\"), Component{:line}(\"uja3rHIE\", Toolips.var\"#f#80\"{String, String, Dict{Any, Any}, Vector{Servable}}(\"uja3rHIE\", \"line\", Dict{Any, Any}(:children => Servable[], :y1 => 376, :x2 => 500, \"style\" => \"'fill: none;stroke: lightblue;stroke-width: 1;opacity: 80%;'\", :y2 => 376, :x1 => 0), Servable[]), Dict{Any, Any}(:children => Servable[], :y1 => 376, :x2 => 500, \"style\" => \"'fill: none;stroke: lightblue;stroke-width: 1;opacity: 80%;'\", :y2 => 376, :x1 => 0), Servable[], \"line\")], :height => 500, :width => 500), Servable[], \"svg\")"
      ]
     },
     "metadata": {},
     "output_type": "display_data"
    }
   ],
   "source": [
    "display(plt.window)"
   ]
  },
  {
   "cell_type": "code",
   "execution_count": 39,
   "metadata": {},
   "outputs": [
    {
     "data": {
      "text/plain": [
       "Dict{String, UnitRange{Int64}} with 12 entries:\n",
       "  \"PzpO2o5a\" => 12:12\n",
       "  \"e0847Skn\" => 6:6\n",
       "  \"9ktQQMiI\" => 8:8\n",
       "  \"1PqZlGgO\" => 9:9\n",
       "  \"Xb1pU2p0\" => 4:4\n",
       "  \"lUlgBRYv\" => 1:1\n",
       "  \"rYpvIYcU\" => 10:10\n",
       "  \"9f4wfqHA\" => 2:2\n",
       "  \"EkeN7QN9\" => 7:7\n",
       "  \"QghSTiI8\" => 11:11\n",
       "  \"WeZEx1ic\" => 5:5\n",
       "  \"LpZI4o8M\" => 3:3"
      ]
     },
     "execution_count": 39,
     "metadata": {},
     "output_type": "execute_result"
    }
   ],
   "source": [
    "axes!(plt)"
   ]
  },
  {
   "cell_type": "code",
   "execution_count": 40,
   "metadata": {},
   "outputs": [
    {
     "data": {
      "text/html": [
       "\"<svg id=window height=500 width=500><line id=6HAoQOr7 y1=500 x2=500 style='fill: none;stroke: black;stroke-width: 4;' y2=500 x1=0></line><line id=RSLhtE9A y1=0 x2=0 style='fill: none;stroke: black;stroke-width: 4;' y2=500 x1=0></line><line id=zNjkOjOb y1=0 x2=1 style='fill: none;stroke: lightblue;stroke-width: 1;opacity: 80%;' y2=500 x1=1></line><line id=mvTWzIIp y1=1 x2=500 style='fill: none;stroke: lightblue;stroke-width: 1;opacity: 80%;' y2=1 x1=0></line><line id=UatZlxMa y1=0 x2=126 style='fill: none;stroke: lightblue;stroke-width: 1;opacity: 80%;' y2=500 x1=126></line><line id=WJAJ5z73 y1=126 x2=500 style='fill: none;stroke: lightblue;stroke-width: 1;opacity: 80%;' y2=126 x1=0></line><line id=yEpnL2KW y1=0 x2=251 style='fill: none;stroke: lightblue;stroke-width: 1;opacity: 80%;' y2=500 x1=251></line><line id=5ax1jm97 y1=251 x2=500 style='fill: none;stroke: lightblue;stroke-width: 1;opacity: 80%;' y2=251 x1=0></line><line id=3rEldOZF y1=0 x2=376 style='fill: none;stroke: lightblue;stroke-width: 1;opacity: 80%;' y2=500 x1=376></line><line id=uja3rHIE y1=376 x2=500 style='fill: none;stroke: lightblue;stroke-width: 1;opacity: 80%;' y2=376 x1=0></line><line id=Hu2D3xaD y1=500 x2=500 style='fill: none;stroke: black;stroke-width: 4;' y2=500 x1=0></line><line id=6DqGhDJx y1=0 x2=0 style='fill: none;stroke: black;stroke-width: 4;' y2=500 x1=0></line></svg>\""
      ],
      "text/plain": [
       "Component{:svg}(\"window\", Toolips.var\"#f#80\"{String, String, Dict{Any, Any}, Vector{Servable}}(\"window\", \"svg\", Dict{Any, Any}(:children => Servable[Component{:line}(\"6HAoQOr7\", Toolips.var\"#f#80\"{String, String, Dict{Any, Any}, Vector{Servable}}(\"6HAoQOr7\", \"line\", Dict{Any, Any}(:children => Servable[], :y1 => 500, :x2 => 500, \"style\" => \"'fill: none;stroke: black;stroke-width: 4;'\", :y2 => 500, :x1 => 0), Servable[]), Dict{Any, Any}(:children => Servable[], :y1 => 500, :x2 => 500, \"style\" => \"'fill: none;stroke: black;stroke-width: 4;'\", :y2 => 500, :x1 => 0), Servable[], \"line\"), Component{:line}(\"RSLhtE9A\", Toolips.var\"#f#80\"{String, String, Dict{Any, Any}, Vector{Servable}}(\"RSLhtE9A\", \"line\", Dict{Any, Any}(:children => Servable[], :y1 => 0, :x2 => 0, \"style\" => \"'fill: none;stroke: black;stroke-width: 4;'\", :y2 => 500, :x1 => 0), Servable[]), Dict{Any, Any}(:children => Servable[], :y1 => 0, :x2 => 0, \"style\" => \"'fill: none;stroke: black;stroke-width: 4;'\", :y2 => 500, :x1 => 0), Servable[], \"line\"), Component{:line}(\"zNjkOjOb\", Toolips.var\"#f#80\"{String, String, Dict{Any, Any}, Vector{Servable}}(\"zNjkOjOb\", \"line\", Dict{Any, Any}(:children => Servable[], :y1 => 0, :x2 => 1, \"style\" => \"'fill: none;stroke: lightblue;stroke-width: 1;opacity: 80%;'\", :y2 => 500, :x1 => 1), Servable[]), Dict{Any, Any}(:children => Servable[], :y1 => 0, :x2 => 1, \"style\" => \"'fill: none;stroke: lightblue;stroke-width: 1;opacity: 80%;'\", :y2 => 500, :x1 => 1), Servable[], \"line\"), Component{:line}(\"mvTWzIIp\", Toolips.var\"#f#80\"{String, String, Dict{Any, Any}, Vector{Servable}}(\"mvTWzIIp\", \"line\", Dict{Any, Any}(:children => Servable[], :y1 => 1, :x2 => 500, \"style\" => \"'fill: none;stroke: lightblue;stroke-width: 1;opacity: 80%;'\", :y2 => 1, :x1 => 0), Servable[]), Dict{Any, Any}(:children => Servable[], :y1 => 1, :x2 => 500, \"style\" => \"'fill: none;stroke: lightblue;stroke-width: 1;opacity: 80%;'\", :y2 => 1, :x1 => 0), Servable[], \"line\"), Component{:line}(\"UatZlxMa\", Toolips.var\"#f#80\"{String, String, Dict{Any, Any}, Vector{Servable}}(\"UatZlxMa\", \"line\", Dict{Any, Any}(:children => Servable[], :y1 => 0, :x2 => 126, \"style\" => \"'fill: none;stroke: lightblue;stroke-width: 1;opacity: 80%;'\", :y2 => 500, :x1 => 126), Servable[]), Dict{Any, Any}(:children => Servable[], :y1 => 0, :x2 => 126, \"style\" => \"'fill: none;stroke: lightblue;stroke-width: 1;opacity: 80%;'\", :y2 => 500, :x1 => 126), Servable[], \"line\"), Component{:line}(\"WJAJ5z73\", Toolips.var\"#f#80\"{String, String, Dict{Any, Any}, Vector{Servable}}(\"WJAJ5z73\", \"line\", Dict{Any, Any}(:children => Servable[], :y1 => 126, :x2 => 500, \"style\" => \"'fill: none;stroke: lightblue;stroke-width: 1;opacity: 80%;'\", :y2 => 126, :x1 => 0), Servable[]), Dict{Any, Any}(:children => Servable[], :y1 => 126, :x2 => 500, \"style\" => \"'fill: none;stroke: lightblue;stroke-width: 1;opacity: 80%;'\", :y2 => 126, :x1 => 0), Servable[], \"line\"), Component{:line}(\"yEpnL2KW\", Toolips.var\"#f#80\"{String, String, Dict{Any, Any}, Vector{Servable}}(\"yEpnL2KW\", \"line\", Dict{Any, Any}(:children => Servable[], :y1 => 0, :x2 => 251, \"style\" => \"'fill: none;stroke: lightblue;stroke-width: 1;opacity: 80%;'\", :y2 => 500, :x1 => 251), Servable[]), Dict{Any, Any}(:children => Servable[], :y1 => 0, :x2 => 251, \"style\" => \"'fill: none;stroke: lightblue;stroke-width: 1;opacity: 80%;'\", :y2 => 500, :x1 => 251), Servable[], \"line\"), Component{:line}(\"5ax1jm97\", Toolips.var\"#f#80\"{String, String, Dict{Any, Any}, Vector{Servable}}(\"5ax1jm97\", \"line\", Dict{Any, Any}(:children => Servable[], :y1 => 251, :x2 => 500, \"style\" => \"'fill: none;stroke: lightblue;stroke-width: 1;opacity: 80%;'\", :y2 => 251, :x1 => 0), Servable[]), Dict{Any, Any}(:children => Servable[], :y1 => 251, :x2 => 500, \"style\" => \"'fill: none;stroke: lightblue;stroke-width: 1;opacity: 80%;'\", :y2 => 251, :x1 => 0), Servable[], \"line\"), Component{:line}(\"3rEldOZF\", Toolips.var\"#f#80\"{String, String, Dict{Any, Any}, Vector{Servable}}(\"3rEldOZF\", \"line\", Dict{Any, Any}(:children => Servable[], :y1 => 0, :x2 => 376, \"style\" => \"'fill: none;stroke: lightblue;stroke-width: 1;opacity: 80%;'\", :y2 => 500, :x1 => 376), Servable[]), Dict{Any, Any}(:children => Servable[], :y1 => 0, :x2 => 376, \"style\" => \"'fill: none;stroke: lightblue;stroke-width: 1;opacity: 80%;'\", :y2 => 500, :x1 => 376), Servable[], \"line\"), Component{:line}(\"uja3rHIE\", Toolips.var\"#f#80\"{String, String, Dict{Any, Any}, Vector{Servable}}(\"uja3rHIE\", \"line\", Dict{Any, Any}(:children => Servable[], :y1 => 376, :x2 => 500, \"style\" => \"'fill: none;stroke: lightblue;stroke-width: 1;opacity: 80%;'\", :y2 => 376, :x1 => 0), Servable[]), Dict{Any, Any}(:children => Servable[], :y1 => 376, :x2 => 500, \"style\" => \"'fill: none;stroke: lightblue;stroke-width: 1;opacity: 80%;'\", :y2 => 376, :x1 => 0), Servable[], \"line\"), Component{:line}(\"Hu2D3xaD\", Toolips.var\"#f#80\"{String, String, Dict{Any, Any}, Vector{Servable}}(\"Hu2D3xaD\", \"line\", Dict{Any, Any}(:children => Servable[], :y1 => 500, :x2 => 500, \"style\" => \"'fill: none;stroke: black;stroke-width: 4;'\", :y2 => 500, :x1 => 0), Servable[]), Dict{Any, Any}(:children => Servable[], :y1 => 500, :x2 => 500, \"style\" => \"'fill: none;stroke: black;stroke-width: 4;'\", :y2 => 500, :x1 => 0), Servable[], \"line\"), Component{:line}(\"6DqGhDJx\", Toolips.var\"#f#80\"{String, String, Dict{Any, Any}, Vector{Servable}}(\"6DqGhDJx\", \"line\", Dict{Any, Any}(:children => Servable[], :y1 => 0, :x2 => 0, \"style\" => \"'fill: none;stroke: black;stroke-width: 4;'\", :y2 => 500, :x1 => 0), Servable[]), Dict{Any, Any}(:children => Servable[], :y1 => 0, :x2 => 0, \"style\" => \"'fill: none;stroke: black;stroke-width: 4;'\", :y2 => 500, :x1 => 0), Servable[], \"line\")], :height => 500, :width => 500), Servable[]), Dict{Any, Any}(:children => Servable[Component{:line}(\"6HAoQOr7\", Toolips.var\"#f#80\"{String, String, Dict{Any, Any}, Vector{Servable}}(\"6HAoQOr7\", \"line\", Dict{Any, Any}(:children => Servable[], :y1 => 500, :x2 => 500, \"style\" => \"'fill: none;stroke: black;stroke-width: 4;'\", :y2 => 500, :x1 => 0), Servable[]), Dict{Any, Any}(:children => Servable[], :y1 => 500, :x2 => 500, \"style\" => \"'fill: none;stroke: black;stroke-width: 4;'\", :y2 => 500, :x1 => 0), Servable[], \"line\"), Component{:line}(\"RSLhtE9A\", Toolips.var\"#f#80\"{String, String, Dict{Any, Any}, Vector{Servable}}(\"RSLhtE9A\", \"line\", Dict{Any, Any}(:children => Servable[], :y1 => 0, :x2 => 0, \"style\" => \"'fill: none;stroke: black;stroke-width: 4;'\", :y2 => 500, :x1 => 0), Servable[]), Dict{Any, Any}(:children => Servable[], :y1 => 0, :x2 => 0, \"style\" => \"'fill: none;stroke: black;stroke-width: 4;'\", :y2 => 500, :x1 => 0), Servable[], \"line\"), Component{:line}(\"zNjkOjOb\", Toolips.var\"#f#80\"{String, String, Dict{Any, Any}, Vector{Servable}}(\"zNjkOjOb\", \"line\", Dict{Any, Any}(:children => Servable[], :y1 => 0, :x2 => 1, \"style\" => \"'fill: none;stroke: lightblue;stroke-width: 1;opacity: 80%;'\", :y2 => 500, :x1 => 1), Servable[]), Dict{Any, Any}(:children => Servable[], :y1 => 0, :x2 => 1, \"style\" => \"'fill: none;stroke: lightblue;stroke-width: 1;opacity: 80%;'\", :y2 => 500, :x1 => 1), Servable[], \"line\"), Component{:line}(\"mvTWzIIp\", Toolips.var\"#f#80\"{String, String, Dict{Any, Any}, Vector{Servable}}(\"mvTWzIIp\", \"line\", Dict{Any, Any}(:children => Servable[], :y1 => 1, :x2 => 500, \"style\" => \"'fill: none;stroke: lightblue;stroke-width: 1;opacity: 80%;'\", :y2 => 1, :x1 => 0), Servable[]), Dict{Any, Any}(:children => Servable[], :y1 => 1, :x2 => 500, \"style\" => \"'fill: none;stroke: lightblue;stroke-width: 1;opacity: 80%;'\", :y2 => 1, :x1 => 0), Servable[], \"line\"), Component{:line}(\"UatZlxMa\", Toolips.var\"#f#80\"{String, String, Dict{Any, Any}, Vector{Servable}}(\"UatZlxMa\", \"line\", Dict{Any, Any}(:children => Servable[], :y1 => 0, :x2 => 126, \"style\" => \"'fill: none;stroke: lightblue;stroke-width: 1;opacity: 80%;'\", :y2 => 500, :x1 => 126), Servable[]), Dict{Any, Any}(:children => Servable[], :y1 => 0, :x2 => 126, \"style\" => \"'fill: none;stroke: lightblue;stroke-width: 1;opacity: 80%;'\", :y2 => 500, :x1 => 126), Servable[], \"line\"), Component{:line}(\"WJAJ5z73\", Toolips.var\"#f#80\"{String, String, Dict{Any, Any}, Vector{Servable}}(\"WJAJ5z73\", \"line\", Dict{Any, Any}(:children => Servable[], :y1 => 126, :x2 => 500, \"style\" => \"'fill: none;stroke: lightblue;stroke-width: 1;opacity: 80%;'\", :y2 => 126, :x1 => 0), Servable[]), Dict{Any, Any}(:children => Servable[], :y1 => 126, :x2 => 500, \"style\" => \"'fill: none;stroke: lightblue;stroke-width: 1;opacity: 80%;'\", :y2 => 126, :x1 => 0), Servable[], \"line\"), Component{:line}(\"yEpnL2KW\", Toolips.var\"#f#80\"{String, String, Dict{Any, Any}, Vector{Servable}}(\"yEpnL2KW\", \"line\", Dict{Any, Any}(:children => Servable[], :y1 => 0, :x2 => 251, \"style\" => \"'fill: none;stroke: lightblue;stroke-width: 1;opacity: 80%;'\", :y2 => 500, :x1 => 251), Servable[]), Dict{Any, Any}(:children => Servable[], :y1 => 0, :x2 => 251, \"style\" => \"'fill: none;stroke: lightblue;stroke-width: 1;opacity: 80%;'\", :y2 => 500, :x1 => 251), Servable[], \"line\"), Component{:line}(\"5ax1jm97\", Toolips.var\"#f#80\"{String, String, Dict{Any, Any}, Vector{Servable}}(\"5ax1jm97\", \"line\", Dict{Any, Any}(:children => Servable[], :y1 => 251, :x2 => 500, \"style\" => \"'fill: none;stroke: lightblue;stroke-width: 1;opacity: 80%;'\", :y2 => 251, :x1 => 0), Servable[]), Dict{Any, Any}(:children => Servable[], :y1 => 251, :x2 => 500, \"style\" => \"'fill: none;stroke: lightblue;stroke-width: 1;opacity: 80%;'\", :y2 => 251, :x1 => 0), Servable[], \"line\"), Component{:line}(\"3rEldOZF\", Toolips.var\"#f#80\"{String, String, Dict{Any, Any}, Vector{Servable}}(\"3rEldOZF\", \"line\", Dict{Any, Any}(:children => Servable[], :y1 => 0, :x2 => 376, \"style\" => \"'fill: none;stroke: lightblue;stroke-width: 1;opacity: 80%;'\", :y2 => 500, :x1 => 376), Servable[]), Dict{Any, Any}(:children => Servable[], :y1 => 0, :x2 => 376, \"style\" => \"'fill: none;stroke: lightblue;stroke-width: 1;opacity: 80%;'\", :y2 => 500, :x1 => 376), Servable[], \"line\"), Component{:line}(\"uja3rHIE\", Toolips.var\"#f#80\"{String, String, Dict{Any, Any}, Vector{Servable}}(\"uja3rHIE\", \"line\", Dict{Any, Any}(:children => Servable[], :y1 => 376, :x2 => 500, \"style\" => \"'fill: none;stroke: lightblue;stroke-width: 1;opacity: 80%;'\", :y2 => 376, :x1 => 0), Servable[]), Dict{Any, Any}(:children => Servable[], :y1 => 376, :x2 => 500, \"style\" => \"'fill: none;stroke: lightblue;stroke-width: 1;opacity: 80%;'\", :y2 => 376, :x1 => 0), Servable[], \"line\"), Component{:line}(\"Hu2D3xaD\", Toolips.var\"#f#80\"{String, String, Dict{Any, Any}, Vector{Servable}}(\"Hu2D3xaD\", \"line\", Dict{Any, Any}(:children => Servable[], :y1 => 500, :x2 => 500, \"style\" => \"'fill: none;stroke: black;stroke-width: 4;'\", :y2 => 500, :x1 => 0), Servable[]), Dict{Any, Any}(:children => Servable[], :y1 => 500, :x2 => 500, \"style\" => \"'fill: none;stroke: black;stroke-width: 4;'\", :y2 => 500, :x1 => 0), Servable[], \"line\"), Component{:line}(\"6DqGhDJx\", Toolips.var\"#f#80\"{String, String, Dict{Any, Any}, Vector{Servable}}(\"6DqGhDJx\", \"line\", Dict{Any, Any}(:children => Servable[], :y1 => 0, :x2 => 0, \"style\" => \"'fill: none;stroke: black;stroke-width: 4;'\", :y2 => 500, :x1 => 0), Servable[]), Dict{Any, Any}(:children => Servable[], :y1 => 0, :x2 => 0, \"style\" => \"'fill: none;stroke: black;stroke-width: 4;'\", :y2 => 500, :x1 => 0), Servable[], \"line\")], :height => 500, :width => 500), Servable[], \"svg\")"
      ]
     },
     "metadata": {},
     "output_type": "display_data"
    }
   ],
   "source": [
    "display(plt.window)"
   ]
  },
  {
   "cell_type": "code",
   "execution_count": 41,
   "metadata": {},
   "outputs": [
    {
     "data": {
      "text/plain": [
       "points! (generic function with 1 method)"
      ]
     },
     "execution_count": 41,
     "metadata": {},
     "output_type": "execute_result"
    }
   ],
   "source": [
    "function points!(con::AbstractContext, x::Vector{<:Number}, y::Vector{<:Number},\n",
    "     styles::Pair{String, <:Any} ...)\n",
    "    if length(styles) == 0\n",
    "        styles = (\"fill\" => \"orange\", \"stroke\" => \"lightblue\", \"stroke-width\" => \"0\")\n",
    "    end\n",
    "    xmax::Number, ymax::Number = maximum(x), maximum(y)\n",
    "     percvec_x = map(n::Number -> n / xmax, x)\n",
    "     percvec_y = map(n::Number -> n / ymax, y)\n",
    "    [begin\n",
    "        c = circle(randstring(), cx = string(pointx * con.dim[1] + con.margin[1]), \n",
    "                cy = string(con.dim[2] - (pointy * con.dim[2] + con.margin[2])), r = \"5\")\n",
    "            style!(c, styles ...)\n",
    "            draw!(con, [c])\n",
    "        end for (pointx, pointy) in zip(percvec_x, percvec_y)]\n",
    "end"
   ]
  },
  {
   "cell_type": "code",
   "execution_count": 42,
   "metadata": {},
   "outputs": [
    {
     "data": {
      "text/plain": [
       "4-element Vector{Dict{String, UnitRange{Int64}}}:\n",
       " Dict(\"PzpO2o5a\" => 12:12, \"e0847Skn\" => 6:6, \"9ktQQMiI\" => 8:8, \"K2v0YaFV\" => 16:16, \"1PqZlGgO\" => 9:9, \"Xb1pU2p0\" => 4:4, \"pa6f8cYI\" => 13:13, \"3G32tqTA\" => 15:15, \"lUlgBRYv\" => 1:1, \"DBIPiMup\" => 14:14…)\n",
       " Dict(\"PzpO2o5a\" => 12:12, \"e0847Skn\" => 6:6, \"9ktQQMiI\" => 8:8, \"K2v0YaFV\" => 16:16, \"1PqZlGgO\" => 9:9, \"Xb1pU2p0\" => 4:4, \"pa6f8cYI\" => 13:13, \"3G32tqTA\" => 15:15, \"lUlgBRYv\" => 1:1, \"DBIPiMup\" => 14:14…)\n",
       " Dict(\"PzpO2o5a\" => 12:12, \"e0847Skn\" => 6:6, \"9ktQQMiI\" => 8:8, \"K2v0YaFV\" => 16:16, \"1PqZlGgO\" => 9:9, \"Xb1pU2p0\" => 4:4, \"pa6f8cYI\" => 13:13, \"3G32tqTA\" => 15:15, \"lUlgBRYv\" => 1:1, \"DBIPiMup\" => 14:14…)\n",
       " Dict(\"PzpO2o5a\" => 12:12, \"e0847Skn\" => 6:6, \"9ktQQMiI\" => 8:8, \"K2v0YaFV\" => 16:16, \"1PqZlGgO\" => 9:9, \"Xb1pU2p0\" => 4:4, \"pa6f8cYI\" => 13:13, \"3G32tqTA\" => 15:15, \"lUlgBRYv\" => 1:1, \"DBIPiMup\" => 14:14…)"
      ]
     },
     "execution_count": 42,
     "metadata": {},
     "output_type": "execute_result"
    }
   ],
   "source": [
    "points!(plt, [5, 10, 15, 20], [11, 18, 15, 12])"
   ]
  },
  {
   "cell_type": "code",
   "execution_count": 43,
   "metadata": {},
   "outputs": [
    {
     "data": {
      "text/plain": [
       "16-element Vector{Servable}:\n",
       " Component{:line}(\"6HAoQOr7\", Toolips.var\"#f#80\"{String, String, Dict{Any, Any}, Vector{Servable}}(\"6HAoQOr7\", \"line\", Dict{Any, Any}(:children => Servable[], :y1 => 500, :x2 => 500, \"style\" => \"'fill: none;stroke: black;stroke-width: 4;'\", :y2 => 500, :x1 => 0), Servable[]), Dict{Any, Any}(:children => Servable[], :y1 => 500, :x2 => 500, \"style\" => \"'fill: none;stroke: black;stroke-width: 4;'\", :y2 => 500, :x1 => 0), Servable[], \"line\")\n",
       " Component{:line}(\"RSLhtE9A\", Toolips.var\"#f#80\"{String, String, Dict{Any, Any}, Vector{Servable}}(\"RSLhtE9A\", \"line\", Dict{Any, Any}(:children => Servable[], :y1 => 0, :x2 => 0, \"style\" => \"'fill: none;stroke: black;stroke-width: 4;'\", :y2 => 500, :x1 => 0), Servable[]), Dict{Any, Any}(:children => Servable[], :y1 => 0, :x2 => 0, \"style\" => \"'fill: none;stroke: black;stroke-width: 4;'\", :y2 => 500, :x1 => 0), Servable[], \"line\")\n",
       " Component{:line}(\"zNjkOjOb\", Toolips.var\"#f#80\"{String, String, Dict{Any, Any}, Vector{Servable}}(\"zNjkOjOb\", \"line\", Dict{Any, Any}(:children => Servable[], :y1 => 0, :x2 => 1, \"style\" => \"'fill: none;stroke: lightblue;stroke-width: 1;opacity: 80%;'\", :y2 => 500, :x1 => 1), Servable[]), Dict{Any, Any}(:children => Servable[], :y1 => 0, :x2 => 1, \"style\" => \"'fill: none;stroke: lightblue;stroke-width: 1;opacity: 80%;'\", :y2 => 500, :x1 => 1), Servable[], \"line\")\n",
       " Component{:line}(\"mvTWzIIp\", Toolips.var\"#f#80\"{String, String, Dict{Any, Any}, Vector{Servable}}(\"mvTWzIIp\", \"line\", Dict{Any, Any}(:children => Servable[], :y1 => 1, :x2 => 500, \"style\" => \"'fill: none;stroke: lightblue;stroke-width: 1;opacity: 80%;'\", :y2 => 1, :x1 => 0), Servable[]), Dict{Any, Any}(:children => Servable[], :y1 => 1, :x2 => 500, \"style\" => \"'fill: none;stroke: lightblue;stroke-width: 1;opacity: 80%;'\", :y2 => 1, :x1 => 0), Servable[], \"line\")\n",
       " Component{:line}(\"UatZlxMa\", Toolips.var\"#f#80\"{String, String, Dict{Any, Any}, Vector{Servable}}(\"UatZlxMa\", \"line\", Dict{Any, Any}(:children => Servable[], :y1 => 0, :x2 => 126, \"style\" => \"'fill: none;stroke: lightblue;stroke-width: 1;opacity: 80%;'\", :y2 => 500, :x1 => 126), Servable[]), Dict{Any, Any}(:children => Servable[], :y1 => 0, :x2 => 126, \"style\" => \"'fill: none;stroke: lightblue;stroke-width: 1;opacity: 80%;'\", :y2 => 500, :x1 => 126), Servable[], \"line\")\n",
       " Component{:line}(\"WJAJ5z73\", Toolips.var\"#f#80\"{String, String, Dict{Any, Any}, Vector{Servable}}(\"WJAJ5z73\", \"line\", Dict{Any, Any}(:children => Servable[], :y1 => 126, :x2 => 500, \"style\" => \"'fill: none;stroke: lightblue;stroke-width: 1;opacity: 80%;'\", :y2 => 126, :x1 => 0), Servable[]), Dict{Any, Any}(:children => Servable[], :y1 => 126, :x2 => 500, \"style\" => \"'fill: none;stroke: lightblue;stroke-width: 1;opacity: 80%;'\", :y2 => 126, :x1 => 0), Servable[], \"line\")\n",
       " Component{:line}(\"yEpnL2KW\", Toolips.var\"#f#80\"{String, String, Dict{Any, Any}, Vector{Servable}}(\"yEpnL2KW\", \"line\", Dict{Any, Any}(:children => Servable[], :y1 => 0, :x2 => 251, \"style\" => \"'fill: none;stroke: lightblue;stroke-width: 1;opacity: 80%;'\", :y2 => 500, :x1 => 251), Servable[]), Dict{Any, Any}(:children => Servable[], :y1 => 0, :x2 => 251, \"style\" => \"'fill: none;stroke: lightblue;stroke-width: 1;opacity: 80%;'\", :y2 => 500, :x1 => 251), Servable[], \"line\")\n",
       " Component{:line}(\"5ax1jm97\", Toolips.var\"#f#80\"{String, String, Dict{Any, Any}, Vector{Servable}}(\"5ax1jm97\", \"line\", Dict{Any, Any}(:children => Servable[], :y1 => 251, :x2 => 500, \"style\" => \"'fill: none;stroke: lightblue;stroke-width: 1;opacity: 80%;'\", :y2 => 251, :x1 => 0), Servable[]), Dict{Any, Any}(:children => Servable[], :y1 => 251, :x2 => 500, \"style\" => \"'fill: none;stroke: lightblue;stroke-width: 1;opacity: 80%;'\", :y2 => 251, :x1 => 0), Servable[], \"line\")\n",
       " Component{:line}(\"3rEldOZF\", Toolips.var\"#f#80\"{String, String, Dict{Any, Any}, Vector{Servable}}(\"3rEldOZF\", \"line\", Dict{Any, Any}(:children => Servable[], :y1 => 0, :x2 => 376, \"style\" => \"'fill: none;stroke: lightblue;stroke-width: 1;opacity: 80%;'\", :y2 => 500, :x1 => 376), Servable[]), Dict{Any, Any}(:children => Servable[], :y1 => 0, :x2 => 376, \"style\" => \"'fill: none;stroke: lightblue;stroke-width: 1;opacity: 80%;'\", :y2 => 500, :x1 => 376), Servable[], \"line\")\n",
       " Component{:line}(\"uja3rHIE\", Toolips.var\"#f#80\"{String, String, Dict{Any, Any}, Vector{Servable}}(\"uja3rHIE\", \"line\", Dict{Any, Any}(:children => Servable[], :y1 => 376, :x2 => 500, \"style\" => \"'fill: none;stroke: lightblue;stroke-width: 1;opacity: 80%;'\", :y2 => 376, :x1 => 0), Servable[]), Dict{Any, Any}(:children => Servable[], :y1 => 376, :x2 => 500, \"style\" => \"'fill: none;stroke: lightblue;stroke-width: 1;opacity: 80%;'\", :y2 => 376, :x1 => 0), Servable[], \"line\")\n",
       " Component{:line}(\"Hu2D3xaD\", Toolips.var\"#f#80\"{String, String, Dict{Any, Any}, Vector{Servable}}(\"Hu2D3xaD\", \"line\", Dict{Any, Any}(:children => Servable[], :y1 => 500, :x2 => 500, \"style\" => \"'fill: none;stroke: black;stroke-width: 4;'\", :y2 => 500, :x1 => 0), Servable[]), Dict{Any, Any}(:children => Servable[], :y1 => 500, :x2 => 500, \"style\" => \"'fill: none;stroke: black;stroke-width: 4;'\", :y2 => 500, :x1 => 0), Servable[], \"line\")\n",
       " Component{:line}(\"6DqGhDJx\", Toolips.var\"#f#80\"{String, String, Dict{Any, Any}, Vector{Servable}}(\"6DqGhDJx\", \"line\", Dict{Any, Any}(:children => Servable[], :y1 => 0, :x2 => 0, \"style\" => \"'fill: none;stroke: black;stroke-width: 4;'\", :y2 => 500, :x1 => 0), Servable[]), Dict{Any, Any}(:children => Servable[], :y1 => 0, :x2 => 0, \"style\" => \"'fill: none;stroke: black;stroke-width: 4;'\", :y2 => 500, :x1 => 0), Servable[], \"line\")\n",
       " Component{:circle}(\"9dSYt7mC\", Toolips.var\"#f#80\"{String, String, Dict{Any, Any}, Vector{Servable}}(\"9dSYt7mC\", \"circle\", Dict{Any, Any}(:children => Servable[], :cx => \"125.0\", \"style\" => \"'fill: orange;stroke: lightblue;stroke-width: 0;'\", :r => \"5\", :cy => \"194.4444444444444\"), Servable[]), Dict{Any, Any}(:children => Servable[], :cx => \"125.0\", \"style\" => \"'fill: orange;stroke: lightblue;stroke-width: 0;'\", :r => \"5\", :cy => \"194.4444444444444\"), Servable[], \"circle\")\n",
       " Component{:circle}(\"XlgOoy5z\", Toolips.var\"#f#80\"{String, String, Dict{Any, Any}, Vector{Servable}}(\"XlgOoy5z\", \"circle\", Dict{Any, Any}(:children => Servable[], :cx => \"250.0\", \"style\" => \"'fill: orange;stroke: lightblue;stroke-width: 0;'\", :r => \"5\", :cy => \"0.0\"), Servable[]), Dict{Any, Any}(:children => Servable[], :cx => \"250.0\", \"style\" => \"'fill: orange;stroke: lightblue;stroke-width: 0;'\", :r => \"5\", :cy => \"0.0\"), Servable[], \"circle\")\n",
       " Component{:circle}(\"zwuRrxGm\", Toolips.var\"#f#80\"{String, String, Dict{Any, Any}, Vector{Servable}}(\"zwuRrxGm\", \"circle\", Dict{Any, Any}(:children => Servable[], :cx => \"375.0\", \"style\" => \"'fill: orange;stroke: lightblue;stroke-width: 0;'\", :r => \"5\", :cy => \"83.33333333333331\"), Servable[]), Dict{Any, Any}(:children => Servable[], :cx => \"375.0\", \"style\" => \"'fill: orange;stroke: lightblue;stroke-width: 0;'\", :r => \"5\", :cy => \"83.33333333333331\"), Servable[], \"circle\")\n",
       " Component{:circle}(\"lA7Fc4nX\", Toolips.var\"#f#80\"{String, String, Dict{Any, Any}, Vector{Servable}}(\"lA7Fc4nX\", \"circle\", Dict{Any, Any}(:children => Servable[], :cx => \"500.0\", \"style\" => \"'fill: orange;stroke: lightblue;stroke-width: 0;'\", :r => \"5\", :cy => \"166.66666666666669\"), Servable[]), Dict{Any, Any}(:children => Servable[], :cx => \"500.0\", \"style\" => \"'fill: orange;stroke: lightblue;stroke-width: 0;'\", :r => \"5\", :cy => \"166.66666666666669\"), Servable[], \"circle\")"
      ]
     },
     "execution_count": 43,
     "metadata": {},
     "output_type": "execute_result"
    }
   ],
   "source": [
    "plt.window[:children]"
   ]
  },
  {
   "cell_type": "code",
   "execution_count": 44,
   "metadata": {},
   "outputs": [
    {
     "data": {
      "text/html": [
       "\"<svg id=window height=500 width=500><line id=6HAoQOr7 y1=500 x2=500 style='fill: none;stroke: black;stroke-width: 4;' y2=500 x1=0></line><line id=RSLhtE9A y1=0 x2=0 style='fill: none;stroke: black;stroke-width: 4;' y2=500 x1=0></line><line id=zNjkOjOb y1=0 x2=1 style='fill: none;stroke: lightblue;stroke-width: 1;opacity: 80%;' y2=500 x1=1></line><line id=mvTWzIIp y1=1 x2=500 style='fill: none;stroke: lightblue;stroke-width: 1;opacity: 80%;' y2=1 x1=0></line><line id=UatZlxMa y1=0 x2=126 style='fill: none;stroke: lightblue;stroke-width: 1;opacity: 80%;' y2=500 x1=126></line><line id=WJAJ5z73 y1=126 x2=500 style='fill: none;stroke: lightblue;stroke-width: 1;opacity: 80%;' y2=126 x1=0></line><line id=yEpnL2KW y1=0 x2=251 style='fill: none;stroke: lightblue;stroke-width: 1;opacity: 80%;' y2=500 x1=251></line><line id=5ax1jm97 y1=251 x2=500 style='fill: none;stroke: lightblue;stroke-width: 1;opacity: 80%;' y2=251 x1=0></line><line id=3rEldOZF y1=0 x2=376 style='fill: none;stroke: lightblue;stroke-width: 1;opacity: 80%;' y2=500 x1=376></line><line id=uja3rHIE y1=376 x2=500 style='fill: none;stroke: lightblue;stroke-width: 1;opacity: 80%;' y2=376 x1=0></line><line id=Hu2D3xaD y1=500 x2=500 style='fill: none;stroke: black;stroke-width: 4;' y2=500 x1=0></line><line id=6DqGhDJx y1=0 x2=0 style='fill: none;stroke: black;stroke-width: 4;' y2=500 x1=0></line><circle id=9dSYt7mC cx=125.0 style='fill: orange;stroke: lightblue;stroke-width: 0;' r=5 cy=194.4444444444444></circle><circle id=XlgOoy5z cx=250.0 style='fill: orange;stroke: lightblue;stroke-width: 0;' r=5 cy=0.0></circle><circle id=zwuRrxGm cx=375.0 style='fill: orange;stroke: lightblue;stroke-width: 0;' r=5 cy=83.33333333333331></circle><circle id=lA7Fc4nX cx=500.0 style='fill: orange;stroke: lightblue;stroke-width: 0;' r=5 cy=166.66666666666669></circle></svg>\""
      ]
     },
     "metadata": {},
     "output_type": "display_data"
    }
   ],
   "source": [
    "display(MIME\"text/html\"(), plt.window)"
   ]
  },
  {
   "cell_type": "code",
   "execution_count": 45,
   "metadata": {},
   "outputs": [
    {
     "data": {
      "text/plain": [
       "Context(Component{:svg}(\"window\", Toolips.var\"#f#80\"{String, String, Dict{Any, Any}, Vector{Servable}}(\"window\", \"svg\", Dict{Any, Any}(:children => Servable[], :height => 150, :width => 300), Servable[]), Dict{Any, Any}(:children => Servable[], :height => 150, :width => 300), Servable[], \"svg\"), \"Z4jqvYIs\", Dict{String, UnitRange{Int64}}(), 300 => 150, 0 => 0)"
      ]
     },
     "execution_count": 45,
     "metadata": {},
     "output_type": "execute_result"
    }
   ],
   "source": [
    "plt = Context(300, 150)"
   ]
  },
  {
   "cell_type": "code",
   "execution_count": 46,
   "metadata": {},
   "outputs": [
    {
     "data": {
      "text/plain": [
       "Dict{String, UnitRange{Int64}} with 1 entry:\n",
       "  \"plot1\" => 1:1"
      ]
     },
     "execution_count": 46,
     "metadata": {},
     "output_type": "execute_result"
    }
   ],
   "source": [
    "group!(plt, \"plot1\", 150, 150) do g::Group\n",
    "    axes!(g)\n",
    "    grid!(g)\n",
    "    points!(g, [5, 10, 15], [5, 10, 15])\n",
    "end"
   ]
  },
  {
   "cell_type": "code",
   "execution_count": 47,
   "metadata": {},
   "outputs": [
    {
     "data": {
      "text/plain": [
       "Dict{String, UnitRange{Int64}} with 2 entries:\n",
       "  \"plot2\" => 2:2\n",
       "  \"plot1\" => 1:1"
      ]
     },
     "execution_count": 47,
     "metadata": {},
     "output_type": "execute_result"
    }
   ],
   "source": [
    "group!(plt, \"plot2\", 150, 150, 150 => 0) do g::Group\n",
    "    axes!(g)\n",
    "    grid!(g)\n",
    "    points!(g, [1, 2, 3, 4, 5], [1, 2, 3, 4, 5])\n",
    "end"
   ]
  },
  {
   "cell_type": "code",
   "execution_count": 48,
   "metadata": {},
   "outputs": [
    {
     "data": {
      "text/plain": [
       "180.0"
      ]
     },
     "execution_count": 48,
     "metadata": {},
     "output_type": "execute_result"
    }
   ],
   "source": [
    "150 * 0.2 + 150"
   ]
  },
  {
   "cell_type": "code",
   "execution_count": 49,
   "metadata": {},
   "outputs": [
    {
     "data": {
      "text/plain": [
       "Dict{String, UnitRange{Int64}} with 3 entries:\n",
       "  \"K0xotvhX\" => 3:3\n",
       "  \"plot2\"    => 2:2\n",
       "  \"plot1\"    => 1:1"
      ]
     },
     "execution_count": 49,
     "metadata": {},
     "output_type": "execute_result"
    }
   ],
   "source": [
    "draw!(plt, [circle(\"newdot\", cx = \"180\", cy = \"150\", r = 5, style = \"fill: blue;\")])"
   ]
  },
  {
   "cell_type": "code",
   "execution_count": 50,
   "metadata": {},
   "outputs": [
    {
     "data": {
      "text/plain": [
       "15-element Vector{Union{Nothing, String}}:\n",
       " nothing\n",
       " nothing\n",
       " nothing\n",
       " nothing\n",
       " nothing\n",
       " nothing\n",
       " nothing\n",
       " nothing\n",
       " nothing\n",
       " nothing\n",
       " \"'fill: orange;stroke: lightblue;stroke-width: 0;fill: green;'\"\n",
       " \"'fill: orange;stroke: lightblue;stroke-width: 0;fill: green;'\"\n",
       " \"'fill: orange;stroke: lightblue;stroke-width: 0;fill: green;'\"\n",
       " \"'fill: orange;stroke: lightblue;stroke-width: 0;fill: green;'\"\n",
       " \"'fill: orange;stroke: lightblue;stroke-width: 0;fill: green;'\""
      ]
     },
     "execution_count": 50,
     "metadata": {},
     "output_type": "execute_result"
    }
   ],
   "source": [
    "[begin\n",
    "        if typeof(comp) == Component{:circle}\n",
    "            style!(comp, \"fill\" => \"green\")\n",
    "        end\n",
    "        end for comp in plt.window[:children][\"plot2\"][:children]]"
   ]
  },
  {
   "cell_type": "code",
   "execution_count": 51,
   "metadata": {},
   "outputs": [
    {
     "data": {
      "text/html": [
       "\"<svg id=window height=150 width=300><g id=plot1 height=150 width=150><line id=p1rVYHPs y1=150 x2=150 style='fill: none;stroke: black;stroke-width: 4;' y2=150 x1=0></line><line id=zIWeJHWr y1=0 x2=0 style='fill: none;stroke: black;stroke-width: 4;' y2=150 x1=0></line><line id=haTLRHDO y1=0 x2=1 style='fill: none;stroke: lightblue;stroke-width: 1;opacity: 80%;' y2=150 x1=1></line><line id=0aEcFMzw y1=1 x2=150 style='fill: none;stroke: lightblue;stroke-width: 1;opacity: 80%;' y2=1 x1=0></line><line id=PWeFMbe0 y1=0 x2=39 style='fill: none;stroke: lightblue;stroke-width: 1;opacity: 80%;' y2=150 x1=39></line><line id=lnrFVgYI y1=39 x2=150 style='fill: none;stroke: lightblue;stroke-width: 1;opacity: 80%;' y2=39 x1=0></line><line id=iUZrZI8v y1=0 x2=77 style='fill: none;stroke: lightblue;stroke-width: 1;opacity: 80%;' y2=150 x1=77></line><line id=DAHfx1dg y1=77 x2=150 style='fill: none;stroke: lightblue;stroke-width: 1;opacity: 80%;' y2=77 x1=0></line><line id=IJKw3PwP y1=0 x2=115 style='fill: none;stroke: lightblue;stroke-width: 1;opacity: 80%;' y2=150 x1=115></line><line id=EwnVJxuA y1=115 x2=150 style='fill: none;stroke: lightblue;stroke-width: 1;opacity: 80%;' y2=115 x1=0></line><circle id=SoVByxmj cx=50.0 style='fill: orange;stroke: lightblue;stroke-width: 0;' r=5 cy=100.0></circle><circle id=0GahaxtA cx=100.0 style='fill: orange;stroke: lightblue;stroke-width: 0;' r=5 cy=50.0></circle><circle id=R651ZnRb cx=150.0 style='fill: orange;stroke: lightblue;stroke-width: 0;' r=5 cy=0.0></circle></g><g id=plot2 height=150 width=150><line id=f15za6gR y1=150 x2=300 style='fill: none;stroke: black;stroke-width: 4;' y2=150 x1=150></line><line id=GjiV7U4G y1=0 x2=150 style='fill: none;stroke: black;stroke-width: 4;' y2=150 x1=150></line><line id=8hvxePgN y1=0 x2=151 style='fill: none;stroke: lightblue;stroke-width: 1;opacity: 80%;' y2=150 x1=151></line><line id=qVFq9TfD y1=1 x2=300 style='fill: none;stroke: lightblue;stroke-width: 1;opacity: 80%;' y2=1 x1=150></line><line id=Ck3tehbH y1=0 x2=189 style='fill: none;stroke: lightblue;stroke-width: 1;opacity: 80%;' y2=150 x1=189></line><line id=PPSHxuEF y1=39 x2=300 style='fill: none;stroke: lightblue;stroke-width: 1;opacity: 80%;' y2=39 x1=150></line><line id=hQG8Iw7n y1=0 x2=227 style='fill: none;stroke: lightblue;stroke-width: 1;opacity: 80%;' y2=150 x1=227></line><line id=05w28JU6 y1=77 x2=300 style='fill: none;stroke: lightblue;stroke-width: 1;opacity: 80%;' y2=77 x1=150></line><line id=8VNCrmtf y1=0 x2=265 style='fill: none;stroke: lightblue;stroke-width: 1;opacity: 80%;' y2=150 x1=265></line><line id=EhfOHHPf y1=115 x2=300 style='fill: none;stroke: lightblue;stroke-width: 1;opacity: 80%;' y2=115 x1=150></line><circle id=8J5vpGTU cx=180.0 style='fill: orange;stroke: lightblue;stroke-width: 0;fill: green;' r=5 cy=120.0></circle><circle id=ASFTWVrA cx=210.0 style='fill: orange;stroke: lightblue;stroke-width: 0;fill: green;' r=5 cy=90.0></circle><circle id=KVEpjczK cx=240.0 style='fill: orange;stroke: lightblue;stroke-width: 0;fill: green;' r=5 cy=60.0></circle><circle id=7RAFo91I cx=270.0 style='fill: orange;stroke: lightblue;stroke-width: 0;fill: green;' r=5 cy=30.0></circle><circle id=ON1nz7z8 cx=300.0 style='fill: orange;stroke: lightblue;stroke-width: 0;fill: green;' r=5 cy=0.0></circle></g><circle id=newdot cx=180 r=5 cy=150 style=fill: blue;></circle></svg>\""
      ]
     },
     "metadata": {},
     "output_type": "display_data"
    }
   ],
   "source": [
    "display(MIME\"text/html\"(), plt.window)"
   ]
  },
  {
   "cell_type": "code",
   "execution_count": 52,
   "metadata": {},
   "outputs": [],
   "source": [
    "using Plots"
   ]
  },
  {
   "cell_type": "code",
   "execution_count": 53,
   "metadata": {},
   "outputs": [
    {
     "data": {
      "text/plain": [
       "Context(Component{:svg}(\"window\", Toolips.var\"#f#80\"{String, String, Dict{Any, Any}, Vector{Servable}}(\"window\", \"svg\", Dict{Any, Any}(:children => Servable[], :height => 500, :width => 500), Servable[]), Dict{Any, Any}(:children => Servable[], :height => 500, :width => 500), Servable[], \"svg\"), \"SCwCmKNI\", Dict{String, UnitRange{Int64}}(), 500 => 500, 0 => 0)"
      ]
     },
     "execution_count": 53,
     "metadata": {},
     "output_type": "execute_result"
    }
   ],
   "source": [
    "plt = Context(500, 500)"
   ]
  },
  {
   "cell_type": "code",
   "execution_count": 54,
   "metadata": {},
   "outputs": [
    {
     "name": "stdout",
     "output_type": "stream",
     "text": [
      "  0.136414 seconds (140.99 k allocations: 7.627 MiB, 99.16% compilation time)\n"
     ]
    },
    {
     "data": {
      "text/plain": [
       "Dict{String, UnitRange{Int64}} with 1 entry:\n",
       "  \"plot\" => 1:1"
      ]
     },
     "execution_count": 54,
     "metadata": {},
     "output_type": "execute_result"
    }
   ],
   "source": [
    "@time group!(plt, \"plot\") do g::Group\n",
    "    axes!(g)\n",
    "    grid!(g, 4)\n",
    "    line!(g, [15, 10, 5], [15, 10, 15])\n",
    "end"
   ]
  },
  {
   "cell_type": "code",
   "execution_count": 55,
   "metadata": {},
   "outputs": [
    {
     "name": "stdout",
     "output_type": "stream",
     "text": [
      "  2.780681 seconds (4.28 M allocations: 243.385 MiB, 2.09% gc time, 99.85% compilation time)\n"
     ]
    },
    {
     "data": {
      "image/svg+xml": [
       "<?xml version=\"1.0\" encoding=\"utf-8\"?>\n",
       "<svg xmlns=\"http://www.w3.org/2000/svg\" xmlns:xlink=\"http://www.w3.org/1999/xlink\" width=\"600\" height=\"400\" viewBox=\"0 0 2400 1600\">\n",
       "<defs>\n",
       "  <clipPath id=\"clip550\">\n",
       "    <rect x=\"0\" y=\"0\" width=\"2400\" height=\"1600\"/>\n",
       "  </clipPath>\n",
       "</defs>\n",
       "<path clip-path=\"url(#clip550)\" d=\"\n",
       "M0 1600 L2400 1600 L2400 0 L0 0  Z\n",
       "  \" fill=\"#ffffff\" fill-rule=\"evenodd\" fill-opacity=\"1\"/>\n",
       "<defs>\n",
       "  <clipPath id=\"clip551\">\n",
       "    <rect x=\"480\" y=\"0\" width=\"1681\" height=\"1600\"/>\n",
       "  </clipPath>\n",
       "</defs>\n",
       "<path clip-path=\"url(#clip550)\" d=\"\n",
       "M139.446 1486.45 L2352.76 1486.45 L2352.76 47.2441 L139.446 47.2441  Z\n",
       "  \" fill=\"#ffffff\" fill-rule=\"evenodd\" fill-opacity=\"1\"/>\n",
       "<defs>\n",
       "  <clipPath id=\"clip552\">\n",
       "    <rect x=\"139\" y=\"47\" width=\"2214\" height=\"1440\"/>\n",
       "  </clipPath>\n",
       "</defs>\n",
       "<polyline clip-path=\"url(#clip552)\" style=\"stroke:#000000; stroke-linecap:round; stroke-linejoin:round; stroke-width:2; stroke-opacity:0.1; fill:none\" points=\"\n",
       "  410.889,1486.45 410.889,47.2441 \n",
       "  \"/>\n",
       "<polyline clip-path=\"url(#clip552)\" style=\"stroke:#000000; stroke-linecap:round; stroke-linejoin:round; stroke-width:2; stroke-opacity:0.1; fill:none\" points=\"\n",
       "  828.495,1486.45 828.495,47.2441 \n",
       "  \"/>\n",
       "<polyline clip-path=\"url(#clip552)\" style=\"stroke:#000000; stroke-linecap:round; stroke-linejoin:round; stroke-width:2; stroke-opacity:0.1; fill:none\" points=\"\n",
       "  1246.1,1486.45 1246.1,47.2441 \n",
       "  \"/>\n",
       "<polyline clip-path=\"url(#clip552)\" style=\"stroke:#000000; stroke-linecap:round; stroke-linejoin:round; stroke-width:2; stroke-opacity:0.1; fill:none\" points=\"\n",
       "  1663.71,1486.45 1663.71,47.2441 \n",
       "  \"/>\n",
       "<polyline clip-path=\"url(#clip552)\" style=\"stroke:#000000; stroke-linecap:round; stroke-linejoin:round; stroke-width:2; stroke-opacity:0.1; fill:none\" points=\"\n",
       "  2081.31,1486.45 2081.31,47.2441 \n",
       "  \"/>\n",
       "<polyline clip-path=\"url(#clip550)\" style=\"stroke:#000000; stroke-linecap:round; stroke-linejoin:round; stroke-width:4; stroke-opacity:1; fill:none\" points=\"\n",
       "  139.446,1486.45 2352.76,1486.45 \n",
       "  \"/>\n",
       "<polyline clip-path=\"url(#clip550)\" style=\"stroke:#000000; stroke-linecap:round; stroke-linejoin:round; stroke-width:4; stroke-opacity:1; fill:none\" points=\"\n",
       "  410.889,1486.45 410.889,1467.55 \n",
       "  \"/>\n",
       "<polyline clip-path=\"url(#clip550)\" style=\"stroke:#000000; stroke-linecap:round; stroke-linejoin:round; stroke-width:4; stroke-opacity:1; fill:none\" points=\"\n",
       "  828.495,1486.45 828.495,1467.55 \n",
       "  \"/>\n",
       "<polyline clip-path=\"url(#clip550)\" style=\"stroke:#000000; stroke-linecap:round; stroke-linejoin:round; stroke-width:4; stroke-opacity:1; fill:none\" points=\"\n",
       "  1246.1,1486.45 1246.1,1467.55 \n",
       "  \"/>\n",
       "<polyline clip-path=\"url(#clip550)\" style=\"stroke:#000000; stroke-linecap:round; stroke-linejoin:round; stroke-width:4; stroke-opacity:1; fill:none\" points=\"\n",
       "  1663.71,1486.45 1663.71,1467.55 \n",
       "  \"/>\n",
       "<polyline clip-path=\"url(#clip550)\" style=\"stroke:#000000; stroke-linecap:round; stroke-linejoin:round; stroke-width:4; stroke-opacity:1; fill:none\" points=\"\n",
       "  2081.31,1486.45 2081.31,1467.55 \n",
       "  \"/>\n",
       "<path clip-path=\"url(#clip550)\" d=\"M411.294 1529.7 Q408.146 1529.7 406.294 1531.86 Q404.466 1534.01 404.466 1537.76 Q404.466 1541.49 406.294 1543.66 Q408.146 1545.82 411.294 1545.82 Q414.442 1545.82 416.271 1543.66 Q418.123 1541.49 418.123 1537.76 Q418.123 1534.01 416.271 1531.86 Q414.442 1529.7 411.294 1529.7 M420.577 1515.05 L420.577 1519.31 Q418.817 1518.48 417.012 1518.04 Q415.23 1517.6 413.47 1517.6 Q408.841 1517.6 406.387 1520.72 Q403.956 1523.85 403.609 1530.17 Q404.975 1528.15 407.035 1527.09 Q409.095 1526 411.572 1526 Q416.78 1526 419.79 1529.17 Q422.822 1532.32 422.822 1537.76 Q422.822 1543.08 419.674 1546.3 Q416.526 1549.52 411.294 1549.52 Q405.299 1549.52 402.128 1544.94 Q398.956 1540.33 398.956 1531.6 Q398.956 1523.41 402.845 1518.55 Q406.734 1513.66 413.285 1513.66 Q415.044 1513.66 416.827 1514.01 Q418.632 1514.36 420.577 1515.05 Z\" fill=\"#000000\" fill-rule=\"evenodd\" fill-opacity=\"1\" /><path clip-path=\"url(#clip550)\" d=\"M828.495 1532.44 Q825.162 1532.44 823.24 1534.22 Q821.342 1536 821.342 1539.13 Q821.342 1542.25 823.24 1544.03 Q825.162 1545.82 828.495 1545.82 Q831.828 1545.82 833.75 1544.03 Q835.671 1542.23 835.671 1539.13 Q835.671 1536 833.75 1534.22 Q831.851 1532.44 828.495 1532.44 M823.819 1530.45 Q820.81 1529.7 819.12 1527.64 Q817.453 1525.58 817.453 1522.62 Q817.453 1518.48 820.393 1516.07 Q823.356 1513.66 828.495 1513.66 Q833.657 1513.66 836.597 1516.07 Q839.537 1518.48 839.537 1522.62 Q839.537 1525.58 837.847 1527.64 Q836.18 1529.7 833.194 1530.45 Q836.574 1531.23 838.449 1533.52 Q840.347 1535.82 840.347 1539.13 Q840.347 1544.15 837.268 1546.83 Q834.213 1549.52 828.495 1549.52 Q822.777 1549.52 819.699 1546.83 Q816.643 1544.15 816.643 1539.13 Q816.643 1535.82 818.541 1533.52 Q820.439 1531.23 823.819 1530.45 M822.106 1523.06 Q822.106 1525.75 823.773 1527.25 Q825.463 1528.76 828.495 1528.76 Q831.504 1528.76 833.194 1527.25 Q834.907 1525.75 834.907 1523.06 Q834.907 1520.38 833.194 1518.87 Q831.504 1517.37 828.495 1517.37 Q825.463 1517.37 823.773 1518.87 Q822.106 1520.38 822.106 1523.06 Z\" fill=\"#000000\" fill-rule=\"evenodd\" fill-opacity=\"1\" /><path clip-path=\"url(#clip550)\" d=\"M1220.79 1544.91 L1228.43 1544.91 L1228.43 1518.55 L1220.12 1520.21 L1220.12 1515.95 L1228.38 1514.29 L1233.06 1514.29 L1233.06 1544.91 L1240.7 1544.91 L1240.7 1548.85 L1220.79 1548.85 L1220.79 1544.91 Z\" fill=\"#000000\" fill-rule=\"evenodd\" fill-opacity=\"1\" /><path clip-path=\"url(#clip550)\" d=\"M1260.14 1517.37 Q1256.53 1517.37 1254.7 1520.93 Q1252.89 1524.47 1252.89 1531.6 Q1252.89 1538.71 1254.7 1542.27 Q1256.53 1545.82 1260.14 1545.82 Q1263.77 1545.82 1265.58 1542.27 Q1267.41 1538.71 1267.41 1531.6 Q1267.41 1524.47 1265.58 1520.93 Q1263.77 1517.37 1260.14 1517.37 M1260.14 1513.66 Q1265.95 1513.66 1269.01 1518.27 Q1272.08 1522.85 1272.08 1531.6 Q1272.08 1540.33 1269.01 1544.94 Q1265.95 1549.52 1260.14 1549.52 Q1254.33 1549.52 1251.25 1544.94 Q1248.2 1540.33 1248.2 1531.6 Q1248.2 1522.85 1251.25 1518.27 Q1254.33 1513.66 1260.14 1513.66 Z\" fill=\"#000000\" fill-rule=\"evenodd\" fill-opacity=\"1\" /><path clip-path=\"url(#clip550)\" d=\"M1639.19 1544.91 L1646.83 1544.91 L1646.83 1518.55 L1638.52 1520.21 L1638.52 1515.95 L1646.79 1514.29 L1651.46 1514.29 L1651.46 1544.91 L1659.1 1544.91 L1659.1 1548.85 L1639.19 1548.85 L1639.19 1544.91 Z\" fill=\"#000000\" fill-rule=\"evenodd\" fill-opacity=\"1\" /><path clip-path=\"url(#clip550)\" d=\"M1672.57 1544.91 L1688.89 1544.91 L1688.89 1548.85 L1666.95 1548.85 L1666.95 1544.91 Q1669.61 1542.16 1674.19 1537.53 Q1678.8 1532.88 1679.98 1531.53 Q1682.22 1529.01 1683.1 1527.27 Q1684.01 1525.51 1684.01 1523.82 Q1684.01 1521.07 1682.06 1519.33 Q1680.14 1517.6 1677.04 1517.6 Q1674.84 1517.6 1672.39 1518.36 Q1669.96 1519.13 1667.18 1520.68 L1667.18 1515.95 Q1670 1514.82 1672.46 1514.24 Q1674.91 1513.66 1676.95 1513.66 Q1682.32 1513.66 1685.51 1516.35 Q1688.71 1519.03 1688.71 1523.52 Q1688.71 1525.65 1687.9 1527.57 Q1687.11 1529.47 1685 1532.07 Q1684.42 1532.74 1681.32 1535.95 Q1678.22 1539.15 1672.57 1544.91 Z\" fill=\"#000000\" fill-rule=\"evenodd\" fill-opacity=\"1\" /><path clip-path=\"url(#clip550)\" d=\"M2055.76 1544.91 L2063.4 1544.91 L2063.4 1518.55 L2055.09 1520.21 L2055.09 1515.95 L2063.35 1514.29 L2068.03 1514.29 L2068.03 1544.91 L2075.66 1544.91 L2075.66 1548.85 L2055.76 1548.85 L2055.76 1544.91 Z\" fill=\"#000000\" fill-rule=\"evenodd\" fill-opacity=\"1\" /><path clip-path=\"url(#clip550)\" d=\"M2097.96 1518.36 L2086.15 1536.81 L2097.96 1536.81 L2097.96 1518.36 M2096.73 1514.29 L2102.61 1514.29 L2102.61 1536.81 L2107.54 1536.81 L2107.54 1540.7 L2102.61 1540.7 L2102.61 1548.85 L2097.96 1548.85 L2097.96 1540.7 L2082.35 1540.7 L2082.35 1536.19 L2096.73 1514.29 Z\" fill=\"#000000\" fill-rule=\"evenodd\" fill-opacity=\"1\" /><polyline clip-path=\"url(#clip552)\" style=\"stroke:#000000; stroke-linecap:round; stroke-linejoin:round; stroke-width:2; stroke-opacity:0.1; fill:none\" points=\"\n",
       "  139.446,1445.72 2352.76,1445.72 \n",
       "  \"/>\n",
       "<polyline clip-path=\"url(#clip552)\" style=\"stroke:#000000; stroke-linecap:round; stroke-linejoin:round; stroke-width:2; stroke-opacity:0.1; fill:none\" points=\"\n",
       "  139.446,1174.17 2352.76,1174.17 \n",
       "  \"/>\n",
       "<polyline clip-path=\"url(#clip552)\" style=\"stroke:#000000; stroke-linecap:round; stroke-linejoin:round; stroke-width:2; stroke-opacity:0.1; fill:none\" points=\"\n",
       "  139.446,902.62 2352.76,902.62 \n",
       "  \"/>\n",
       "<polyline clip-path=\"url(#clip552)\" style=\"stroke:#000000; stroke-linecap:round; stroke-linejoin:round; stroke-width:2; stroke-opacity:0.1; fill:none\" points=\"\n",
       "  139.446,631.072 2352.76,631.072 \n",
       "  \"/>\n",
       "<polyline clip-path=\"url(#clip552)\" style=\"stroke:#000000; stroke-linecap:round; stroke-linejoin:round; stroke-width:2; stroke-opacity:0.1; fill:none\" points=\"\n",
       "  139.446,359.524 2352.76,359.524 \n",
       "  \"/>\n",
       "<polyline clip-path=\"url(#clip552)\" style=\"stroke:#000000; stroke-linecap:round; stroke-linejoin:round; stroke-width:2; stroke-opacity:0.1; fill:none\" points=\"\n",
       "  139.446,87.9763 2352.76,87.9763 \n",
       "  \"/>\n",
       "<polyline clip-path=\"url(#clip550)\" style=\"stroke:#000000; stroke-linecap:round; stroke-linejoin:round; stroke-width:4; stroke-opacity:1; fill:none\" points=\"\n",
       "  139.446,1486.45 139.446,47.2441 \n",
       "  \"/>\n",
       "<polyline clip-path=\"url(#clip550)\" style=\"stroke:#000000; stroke-linecap:round; stroke-linejoin:round; stroke-width:4; stroke-opacity:1; fill:none\" points=\"\n",
       "  139.446,1445.72 158.343,1445.72 \n",
       "  \"/>\n",
       "<polyline clip-path=\"url(#clip550)\" style=\"stroke:#000000; stroke-linecap:round; stroke-linejoin:round; stroke-width:4; stroke-opacity:1; fill:none\" points=\"\n",
       "  139.446,1174.17 158.343,1174.17 \n",
       "  \"/>\n",
       "<polyline clip-path=\"url(#clip550)\" style=\"stroke:#000000; stroke-linecap:round; stroke-linejoin:round; stroke-width:4; stroke-opacity:1; fill:none\" points=\"\n",
       "  139.446,902.62 158.343,902.62 \n",
       "  \"/>\n",
       "<polyline clip-path=\"url(#clip550)\" style=\"stroke:#000000; stroke-linecap:round; stroke-linejoin:round; stroke-width:4; stroke-opacity:1; fill:none\" points=\"\n",
       "  139.446,631.072 158.343,631.072 \n",
       "  \"/>\n",
       "<polyline clip-path=\"url(#clip550)\" style=\"stroke:#000000; stroke-linecap:round; stroke-linejoin:round; stroke-width:4; stroke-opacity:1; fill:none\" points=\"\n",
       "  139.446,359.524 158.343,359.524 \n",
       "  \"/>\n",
       "<polyline clip-path=\"url(#clip550)\" style=\"stroke:#000000; stroke-linecap:round; stroke-linejoin:round; stroke-width:4; stroke-opacity:1; fill:none\" points=\"\n",
       "  139.446,87.9763 158.343,87.9763 \n",
       "  \"/>\n",
       "<path clip-path=\"url(#clip550)\" d=\"M52.1495 1459.06 L59.7884 1459.06 L59.7884 1432.69 L51.4782 1434.36 L51.4782 1430.1 L59.7421 1428.44 L64.418 1428.44 L64.418 1459.06 L72.0568 1459.06 L72.0568 1463 L52.1495 1463 L52.1495 1459.06 Z\" fill=\"#000000\" fill-rule=\"evenodd\" fill-opacity=\"1\" /><path clip-path=\"url(#clip550)\" d=\"M91.5012 1431.51 Q87.8901 1431.51 86.0614 1435.08 Q84.2558 1438.62 84.2558 1445.75 Q84.2558 1452.86 86.0614 1456.42 Q87.8901 1459.96 91.5012 1459.96 Q95.1354 1459.96 96.941 1456.42 Q98.7696 1452.86 98.7696 1445.75 Q98.7696 1438.62 96.941 1435.08 Q95.1354 1431.51 91.5012 1431.51 M91.5012 1427.81 Q97.3113 1427.81 100.367 1432.42 Q103.446 1437 103.446 1445.75 Q103.446 1454.48 100.367 1459.08 Q97.3113 1463.67 91.5012 1463.67 Q85.691 1463.67 82.6123 1459.08 Q79.5568 1454.48 79.5568 1445.75 Q79.5568 1437 82.6123 1432.42 Q85.691 1427.81 91.5012 1427.81 Z\" fill=\"#000000\" fill-rule=\"evenodd\" fill-opacity=\"1\" /><path clip-path=\"url(#clip550)\" d=\"M53.3764 1187.51 L61.0152 1187.51 L61.0152 1161.15 L52.7051 1162.81 L52.7051 1158.55 L60.9689 1156.89 L65.6448 1156.89 L65.6448 1187.51 L73.2837 1187.51 L73.2837 1191.45 L53.3764 1191.45 L53.3764 1187.51 Z\" fill=\"#000000\" fill-rule=\"evenodd\" fill-opacity=\"1\" /><path clip-path=\"url(#clip550)\" d=\"M83.5382 1187.51 L91.1771 1187.51 L91.1771 1161.15 L82.867 1162.81 L82.867 1158.55 L91.1308 1156.89 L95.8067 1156.89 L95.8067 1187.51 L103.446 1187.51 L103.446 1191.45 L83.5382 1191.45 L83.5382 1187.51 Z\" fill=\"#000000\" fill-rule=\"evenodd\" fill-opacity=\"1\" /><path clip-path=\"url(#clip550)\" d=\"M53.7467 915.965 L61.3856 915.965 L61.3856 889.599 L53.0754 891.266 L53.0754 887.007 L61.3393 885.34 L66.0152 885.34 L66.0152 915.965 L73.654 915.965 L73.654 919.9 L53.7467 919.9 L53.7467 915.965 Z\" fill=\"#000000\" fill-rule=\"evenodd\" fill-opacity=\"1\" /><path clip-path=\"url(#clip550)\" d=\"M87.1262 915.965 L103.446 915.965 L103.446 919.9 L81.5012 919.9 L81.5012 915.965 Q84.1632 913.21 88.7466 908.581 Q93.353 903.928 94.5336 902.585 Q96.7789 900.062 97.6585 898.326 Q98.5613 896.567 98.5613 894.877 Q98.5613 892.122 96.6169 890.386 Q94.6956 888.65 91.5938 888.65 Q89.3947 888.65 86.941 889.414 Q84.5105 890.178 81.7327 891.729 L81.7327 887.007 Q84.5568 885.872 87.0105 885.294 Q89.4641 884.715 91.5012 884.715 Q96.8715 884.715 100.066 887.4 Q103.26 890.085 103.26 894.576 Q103.26 896.706 102.45 898.627 Q101.663 900.525 99.5567 903.118 Q98.978 903.789 95.8761 907.006 Q92.7743 910.201 87.1262 915.965 Z\" fill=\"#000000\" fill-rule=\"evenodd\" fill-opacity=\"1\" /><path clip-path=\"url(#clip550)\" d=\"M52.7977 644.417 L60.4365 644.417 L60.4365 618.051 L52.1264 619.718 L52.1264 615.459 L60.3902 613.792 L65.0661 613.792 L65.0661 644.417 L72.705 644.417 L72.705 648.352 L52.7977 648.352 L52.7977 644.417 Z\" fill=\"#000000\" fill-rule=\"evenodd\" fill-opacity=\"1\" /><path clip-path=\"url(#clip550)\" d=\"M96.316 629.718 Q99.6724 630.435 101.547 632.704 Q103.446 634.972 103.446 638.306 Q103.446 643.422 99.927 646.222 Q96.4085 649.023 89.9271 649.023 Q87.7512 649.023 85.4364 648.584 Q83.1447 648.167 80.691 647.31 L80.691 642.797 Q82.6355 643.931 84.9503 644.509 Q87.2651 645.088 89.7882 645.088 Q94.1863 645.088 96.478 643.352 Q98.7928 641.616 98.7928 638.306 Q98.7928 635.25 96.64 633.537 Q94.5104 631.801 90.691 631.801 L86.6632 631.801 L86.6632 627.959 L90.8762 627.959 Q94.3252 627.959 96.1539 626.593 Q97.9826 625.204 97.9826 622.611 Q97.9826 619.949 96.0845 618.537 Q94.2095 617.102 90.691 617.102 Q88.7697 617.102 86.5706 617.519 Q84.3716 617.936 81.7327 618.815 L81.7327 614.649 Q84.3947 613.908 86.7095 613.537 Q89.0475 613.167 91.1077 613.167 Q96.4317 613.167 99.5335 615.598 Q102.635 618.005 102.635 622.125 Q102.635 624.996 100.992 626.986 Q99.3483 628.954 96.316 629.718 Z\" fill=\"#000000\" fill-rule=\"evenodd\" fill-opacity=\"1\" /><path clip-path=\"url(#clip550)\" d=\"M51.6634 372.869 L59.3023 372.869 L59.3023 346.503 L50.9921 348.17 L50.9921 343.911 L59.256 342.244 L63.9319 342.244 L63.9319 372.869 L71.5707 372.869 L71.5707 376.804 L51.6634 376.804 L51.6634 372.869 Z\" fill=\"#000000\" fill-rule=\"evenodd\" fill-opacity=\"1\" /><path clip-path=\"url(#clip550)\" d=\"M93.8623 346.318 L82.0568 364.767 L93.8623 364.767 L93.8623 346.318 M92.6354 342.244 L98.515 342.244 L98.515 364.767 L103.446 364.767 L103.446 368.656 L98.515 368.656 L98.515 376.804 L93.8623 376.804 L93.8623 368.656 L78.2605 368.656 L78.2605 364.142 L92.6354 342.244 Z\" fill=\"#000000\" fill-rule=\"evenodd\" fill-opacity=\"1\" /><path clip-path=\"url(#clip550)\" d=\"M53.1449 101.321 L60.7837 101.321 L60.7837 74.9555 L52.4736 76.6222 L52.4736 72.3629 L60.7374 70.6963 L65.4133 70.6963 L65.4133 101.321 L73.0522 101.321 L73.0522 105.256 L53.1449 105.256 L53.1449 101.321 Z\" fill=\"#000000\" fill-rule=\"evenodd\" fill-opacity=\"1\" /><path clip-path=\"url(#clip550)\" d=\"M82.5429 70.6963 L100.899 70.6963 L100.899 74.6314 L86.8253 74.6314 L86.8253 83.1036 Q87.8438 82.7564 88.8623 82.5944 Q89.8808 82.4092 90.8993 82.4092 Q96.6863 82.4092 100.066 85.5805 Q103.446 88.7517 103.446 94.1684 Q103.446 99.747 99.9733 102.849 Q96.5011 105.928 90.1817 105.928 Q88.0058 105.928 85.7373 105.557 Q83.492 105.187 81.0846 104.446 L81.0846 99.747 Q83.1679 100.881 85.3901 101.437 Q87.6123 101.992 90.0891 101.992 Q94.0937 101.992 96.4317 99.8859 Q98.7696 97.7795 98.7696 94.1684 Q98.7696 90.5573 96.4317 88.4508 Q94.0937 86.3443 90.0891 86.3443 Q88.2141 86.3443 86.3392 86.761 Q84.4873 87.1777 82.5429 88.0573 L82.5429 70.6963 Z\" fill=\"#000000\" fill-rule=\"evenodd\" fill-opacity=\"1\" /><polyline clip-path=\"url(#clip552)\" style=\"stroke:#009af9; stroke-linecap:round; stroke-linejoin:round; stroke-width:4; stroke-opacity:1; fill:none\" points=\"\n",
       "  2290.12,87.9763 1246.1,1445.72 202.086,87.9763 \n",
       "  \"/>\n",
       "<path clip-path=\"url(#clip550)\" d=\"\n",
       "M1980.63 198.898 L2278.98 198.898 L2278.98 95.2176 L1980.63 95.2176  Z\n",
       "  \" fill=\"#ffffff\" fill-rule=\"evenodd\" fill-opacity=\"1\"/>\n",
       "<polyline clip-path=\"url(#clip550)\" style=\"stroke:#000000; stroke-linecap:round; stroke-linejoin:round; stroke-width:4; stroke-opacity:1; fill:none\" points=\"\n",
       "  1980.63,198.898 2278.98,198.898 2278.98,95.2176 1980.63,95.2176 1980.63,198.898 \n",
       "  \"/>\n",
       "<polyline clip-path=\"url(#clip550)\" style=\"stroke:#009af9; stroke-linecap:round; stroke-linejoin:round; stroke-width:4; stroke-opacity:1; fill:none\" points=\"\n",
       "  2005.22,147.058 2152.77,147.058 \n",
       "  \"/>\n",
       "<path clip-path=\"url(#clip550)\" d=\"M2191.21 166.745 Q2189.4 171.375 2187.69 172.787 Q2185.98 174.199 2183.1 174.199 L2179.7 174.199 L2179.7 170.634 L2182.2 170.634 Q2183.96 170.634 2184.93 169.8 Q2185.91 168.967 2187.09 165.865 L2187.85 163.921 L2177.36 138.412 L2181.88 138.412 L2189.98 158.689 L2198.08 138.412 L2202.6 138.412 L2191.21 166.745 Z\" fill=\"#000000\" fill-rule=\"evenodd\" fill-opacity=\"1\" /><path clip-path=\"url(#clip550)\" d=\"M2209.89 160.402 L2217.53 160.402 L2217.53 134.037 L2209.22 135.703 L2209.22 131.444 L2217.48 129.778 L2222.16 129.778 L2222.16 160.402 L2229.79 160.402 L2229.79 164.338 L2209.89 164.338 L2209.89 160.402 Z\" fill=\"#000000\" fill-rule=\"evenodd\" fill-opacity=\"1\" /></svg>\n"
      ]
     },
     "execution_count": 55,
     "metadata": {},
     "output_type": "execute_result"
    }
   ],
   "source": [
    "@time plot([15, 10, 5], [15, 10, 15])"
   ]
  },
  {
   "cell_type": "code",
   "execution_count": 56,
   "metadata": {},
   "outputs": [
    {
     "ename": "LoadError",
     "evalue": "ArgumentError: Package RecipesBase not found in current path:\n- Run `import Pkg; Pkg.add(\"RecipesBase\")` to install the RecipesBase package.\n",
     "output_type": "error",
     "traceback": [
      "ArgumentError: Package RecipesBase not found in current path:\n- Run `import Pkg; Pkg.add(\"RecipesBase\")` to install the RecipesBase package.\n",
      "",
      "Stacktrace:",
      " [1] require(into::Module, mod::Symbol)",
      "   @ Base ./loading.jl:967",
      " [2] eval",
      "   @ ./boot.jl:373 [inlined]",
      " [3] include_string(mapexpr::typeof(REPL.softscope), mod::Module, code::String, filename::String)",
      "   @ Base ./loading.jl:1196"
     ]
    }
   ],
   "source": [
    "import RecipesBase: plot"
   ]
  },
  {
   "cell_type": "code",
   "execution_count": 57,
   "metadata": {},
   "outputs": [
    {
     "data": {
      "text/plain": [
       "scatter (generic function with 4 methods)"
      ]
     },
     "execution_count": 57,
     "metadata": {},
     "output_type": "execute_result"
    }
   ],
   "source": [
    "scatter(x::Vector{<:Number}, y::Vector{<:Number}, width::Int64 = 500,\n",
    "height::Int64 = 500, margin::Pair{Int64, Int64} = 0 => 0; divisions::Int64 = 4,\n",
    "    title = \"\", args ...) = begin\n",
    "    con::Context = Context(width, height, margin)\n",
    "    group!(con, \"plotbase\") do g::Group\n",
    "        axes!(con)\n",
    "        grid!(con, divisions)\n",
    "    end\n",
    "    group!(con, \"points\") do g::Group\n",
    "        points!(con, x, y)\n",
    "    end\n",
    "    con\n",
    "end"
   ]
  },
  {
   "cell_type": "code",
   "execution_count": 58,
   "metadata": {},
   "outputs": [
    {
     "data": {
      "text/plain": [
       "Context(Component{:svg}(\"window\", Toolips.var\"#f#80\"{String, String, Dict{Any, Any}, Vector{Servable}}(\"window\", \"svg\", Dict{Any, Any}(:children => Servable[Component{:line}(\"r9F0YEZi\", Toolips.var\"#f#80\"{String, String, Dict{Any, Any}, Vector{Servable}}(\"r9F0YEZi\", \"line\", Dict{Any, Any}(:children => Servable[], :y1 => 500, :x2 => 500, \"style\" => \"'fill: none;stroke: black;stroke-width: 4;'\", :y2 => 500, :x1 => 0), Servable[]), Dict{Any, Any}(:children => Servable[], :y1 => 500, :x2 => 500, \"style\" => \"'fill: none;stroke: black;stroke-width: 4;'\", :y2 => 500, :x1 => 0), Servable[], \"line\"), Component{:line}(\"bRBVqJss\", Toolips.var\"#f#80\"{String, String, Dict{Any, Any}, Vector{Servable}}(\"bRBVqJss\", \"line\", Dict{Any, Any}(:children => Servable[], :y1 => 0, :x2 => 0, \"style\" => \"'fill: none;stroke: black;stroke-width: 4;'\", :y2 => 500, :x1 => 0), Servable[]), Dict{Any, Any}(:children => Servable[], :y1 => 0, :x2 => 0, \"style\" => \"'fill: none;stroke: black;stroke-width: 4;'\", :y2 => 500, :x1 => 0), Servable[], \"line\"), Component{:line}(\"Z3Fk6g4Q\", Toolips.var\"#f#80\"{String, String, Dict{Any, Any}, Vector{Servable}}(\"Z3Fk6g4Q\", \"line\", Dict{Any, Any}(:children => Servable[], :y1 => 0, :x2 => 1, \"style\" => \"'fill: none;stroke: lightblue;stroke-width: 1;opacity: 80%;'\", :y2 => 500, :x1 => 1), Servable[]), Dict{Any, Any}(:children => Servable[], :y1 => 0, :x2 => 1, \"style\" => \"'fill: none;stroke: lightblue;stroke-width: 1;opacity: 80%;'\", :y2 => 500, :x1 => 1), Servable[], \"line\"), Component{:line}(\"8zHPY3ds\", Toolips.var\"#f#80\"{String, String, Dict{Any, Any}, Vector{Servable}}(\"8zHPY3ds\", \"line\", Dict{Any, Any}(:children => Servable[], :y1 => 1, :x2 => 500, \"style\" => \"'fill: none;stroke: lightblue;stroke-width: 1;opacity: 80%;'\", :y2 => 1, :x1 => 0), Servable[]), Dict{Any, Any}(:children => Servable[], :y1 => 1, :x2 => 500, \"style\" => \"'fill: none;stroke: lightblue;stroke-width: 1;opacity: 80%;'\", :y2 => 1, :x1 => 0), Servable[], \"line\"), Component{:line}(\"qbWcTD34\", Toolips.var\"#f#80\"{String, String, Dict{Any, Any}, Vector{Servable}}(\"qbWcTD34\", \"line\", Dict{Any, Any}(:children => Servable[], :y1 => 0, :x2 => 126, \"style\" => \"'fill: none;stroke: lightblue;stroke-width: 1;opacity: 80%;'\", :y2 => 500, :x1 => 126), Servable[]), Dict{Any, Any}(:children => Servable[], :y1 => 0, :x2 => 126, \"style\" => \"'fill: none;stroke: lightblue;stroke-width: 1;opacity: 80%;'\", :y2 => 500, :x1 => 126), Servable[], \"line\"), Component{:line}(\"R7reYAYH\", Toolips.var\"#f#80\"{String, String, Dict{Any, Any}, Vector{Servable}}(\"R7reYAYH\", \"line\", Dict{Any, Any}(:children => Servable[], :y1 => 126, :x2 => 500, \"style\" => \"'fill: none;stroke: lightblue;stroke-width: 1;opacity: 80%;'\", :y2 => 126, :x1 => 0), Servable[]), Dict{Any, Any}(:children => Servable[], :y1 => 126, :x2 => 500, \"style\" => \"'fill: none;stroke: lightblue;stroke-width: 1;opacity: 80%;'\", :y2 => 126, :x1 => 0), Servable[], \"line\"), Component{:line}(\"0cszb5of\", Toolips.var\"#f#80\"{String, String, Dict{Any, Any}, Vector{Servable}}(\"0cszb5of\", \"line\", Dict{Any, Any}(:children => Servable[], :y1 => 0, :x2 => 251, \"style\" => \"'fill: none;stroke: lightblue;stroke-width: 1;opacity: 80%;'\", :y2 => 500, :x1 => 251), Servable[]), Dict{Any, Any}(:children => Servable[], :y1 => 0, :x2 => 251, \"style\" => \"'fill: none;stroke: lightblue;stroke-width: 1;opacity: 80%;'\", :y2 => 500, :x1 => 251), Servable[], \"line\"), Component{:line}(\"p1MLzXRM\", Toolips.var\"#f#80\"{String, String, Dict{Any, Any}, Vector{Servable}}(\"p1MLzXRM\", \"line\", Dict{Any, Any}(:children => Servable[], :y1 => 251, :x2 => 500, \"style\" => \"'fill: none;stroke: lightblue;stroke-width: 1;opacity: 80%;'\", :y2 => 251, :x1 => 0), Servable[]), Dict{Any, Any}(:children => Servable[], :y1 => 251, :x2 => 500, \"style\" => \"'fill: none;stroke: lightblue;stroke-width: 1;opacity: 80%;'\", :y2 => 251, :x1 => 0), Servable[], \"line\"), Component{:line}(\"8Ju9dL8d\", Toolips.var\"#f#80\"{String, String, Dict{Any, Any}, Vector{Servable}}(\"8Ju9dL8d\", \"line\", Dict{Any, Any}(:children => Servable[], :y1 => 0, :x2 => 376, \"style\" => \"'fill: none;stroke: lightblue;stroke-width: 1;opacity: 80%;'\", :y2 => 500, :x1 => 376), Servable[]), Dict{Any, Any}(:children => Servable[], :y1 => 0, :x2 => 376, \"style\" => \"'fill: none;stroke: lightblue;stroke-width: 1;opacity: 80%;'\", :y2 => 500, :x1 => 376), Servable[], \"line\"), Component{:line}(\"t219T9ks\", Toolips.var\"#f#80\"{String, String, Dict{Any, Any}, Vector{Servable}}(\"t219T9ks\", \"line\", Dict{Any, Any}(:children => Servable[], :y1 => 376, :x2 => 500, \"style\" => \"'fill: none;stroke: lightblue;stroke-width: 1;opacity: 80%;'\", :y2 => 376, :x1 => 0), Servable[]), Dict{Any, Any}(:children => Servable[], :y1 => 376, :x2 => 500, \"style\" => \"'fill: none;stroke: lightblue;stroke-width: 1;opacity: 80%;'\", :y2 => 376, :x1 => 0), Servable[], \"line\"), Component{:g}(\"plotbase\", Toolips.var\"#f#80\"{String, String, Dict{Any, Any}, Vector{Servable}}(\"plotbase\", \"g\", Dict{Any, Any}(:children => Servable[], :height => 500, :width => 500), Servable[]), Dict{Any, Any}(:children => Servable[], :height => 500, :width => 500), Servable[], \"g\"), Component{:circle}(\"jiiuv0r9\", Toolips.var\"#f#80\"{String, String, Dict{Any, Any}, Vector{Servable}}(\"jiiuv0r9\", \"circle\", Dict{Any, Any}(:children => Servable[], :cx => \"166.66666666666666\", \"style\" => \"'fill: orange;stroke: lightblue;stroke-width: 0;'\", :r => \"5\", :cy => \"333.33333333333337\"), Servable[]), Dict{Any, Any}(:children => Servable[], :cx => \"166.66666666666666\", \"style\" => \"'fill: orange;stroke: lightblue;stroke-width: 0;'\", :r => \"5\", :cy => \"333.33333333333337\"), Servable[], \"circle\"), Component{:circle}(\"e7zdNSI4\", Toolips.var\"#f#80\"{String, String, Dict{Any, Any}, Vector{Servable}}(\"e7zdNSI4\", \"circle\", Dict{Any, Any}(:children => Servable[], :cx => \"333.3333333333333\", \"style\" => \"'fill: orange;stroke: lightblue;stroke-width: 0;'\", :r => \"5\", :cy => \"166.66666666666669\"), Servable[]), Dict{Any, Any}(:children => Servable[], :cx => \"333.3333333333333\", \"style\" => \"'fill: orange;stroke: lightblue;stroke-width: 0;'\", :r => \"5\", :cy => \"166.66666666666669\"), Servable[], \"circle\"), Component{:circle}(\"OolPMMdU\", Toolips.var\"#f#80\"{String, String, Dict{Any, Any}, Vector{Servable}}(\"OolPMMdU\", \"circle\", Dict{Any, Any}(:children => Servable[], :cx => \"500.0\", \"style\" => \"'fill: orange;stroke: lightblue;stroke-width: 0;'\", :r => \"5\", :cy => \"0.0\"), Servable[]), Dict{Any, Any}(:children => Servable[], :cx => \"500.0\", \"style\" => \"'fill: orange;stroke: lightblue;stroke-width: 0;'\", :r => \"5\", :cy => \"0.0\"), Servable[], \"circle\"), Component{:g}(\"points\", Toolips.var\"#f#80\"{String, String, Dict{Any, Any}, Vector{Servable}}(\"points\", \"g\", Dict{Any, Any}(:children => Servable[], :height => 500, :width => 500), Servable[]), Dict{Any, Any}(:children => Servable[], :height => 500, :width => 500), Servable[], \"g\")], :height => 500, :width => 500), Servable[]), Dict{Any, Any}(:children => Servable[Component{:line}(\"r9F0YEZi\", Toolips.var\"#f#80\"{String, String, Dict{Any, Any}, Vector{Servable}}(\"r9F0YEZi\", \"line\", Dict{Any, Any}(:children => Servable[], :y1 => 500, :x2 => 500, \"style\" => \"'fill: none;stroke: black;stroke-width: 4;'\", :y2 => 500, :x1 => 0), Servable[]), Dict{Any, Any}(:children => Servable[], :y1 => 500, :x2 => 500, \"style\" => \"'fill: none;stroke: black;stroke-width: 4;'\", :y2 => 500, :x1 => 0), Servable[], \"line\"), Component{:line}(\"bRBVqJss\", Toolips.var\"#f#80\"{String, String, Dict{Any, Any}, Vector{Servable}}(\"bRBVqJss\", \"line\", Dict{Any, Any}(:children => Servable[], :y1 => 0, :x2 => 0, \"style\" => \"'fill: none;stroke: black;stroke-width: 4;'\", :y2 => 500, :x1 => 0), Servable[]), Dict{Any, Any}(:children => Servable[], :y1 => 0, :x2 => 0, \"style\" => \"'fill: none;stroke: black;stroke-width: 4;'\", :y2 => 500, :x1 => 0), Servable[], \"line\"), Component{:line}(\"Z3Fk6g4Q\", Toolips.var\"#f#80\"{String, String, Dict{Any, Any}, Vector{Servable}}(\"Z3Fk6g4Q\", \"line\", Dict{Any, Any}(:children => Servable[], :y1 => 0, :x2 => 1, \"style\" => \"'fill: none;stroke: lightblue;stroke-width: 1;opacity: 80%;'\", :y2 => 500, :x1 => 1), Servable[]), Dict{Any, Any}(:children => Servable[], :y1 => 0, :x2 => 1, \"style\" => \"'fill: none;stroke: lightblue;stroke-width: 1;opacity: 80%;'\", :y2 => 500, :x1 => 1), Servable[], \"line\"), Component{:line}(\"8zHPY3ds\", Toolips.var\"#f#80\"{String, String, Dict{Any, Any}, Vector{Servable}}(\"8zHPY3ds\", \"line\", Dict{Any, Any}(:children => Servable[], :y1 => 1, :x2 => 500, \"style\" => \"'fill: none;stroke: lightblue;stroke-width: 1;opacity: 80%;'\", :y2 => 1, :x1 => 0), Servable[]), Dict{Any, Any}(:children => Servable[], :y1 => 1, :x2 => 500, \"style\" => \"'fill: none;stroke: lightblue;stroke-width: 1;opacity: 80%;'\", :y2 => 1, :x1 => 0), Servable[], \"line\"), Component{:line}(\"qbWcTD34\", Toolips.var\"#f#80\"{String, String, Dict{Any, Any}, Vector{Servable}}(\"qbWcTD34\", \"line\", Dict{Any, Any}(:children => Servable[], :y1 => 0, :x2 => 126, \"style\" => \"'fill: none;stroke: lightblue;stroke-width: 1;opacity: 80%;'\", :y2 => 500, :x1 => 126), Servable[]), Dict{Any, Any}(:children => Servable[], :y1 => 0, :x2 => 126, \"style\" => \"'fill: none;stroke: lightblue;stroke-width: 1;opacity: 80%;'\", :y2 => 500, :x1 => 126), Servable[], \"line\"), Component{:line}(\"R7reYAYH\", Toolips.var\"#f#80\"{String, String, Dict{Any, Any}, Vector{Servable}}(\"R7reYAYH\", \"line\", Dict{Any, Any}(:children => Servable[], :y1 => 126, :x2 => 500, \"style\" => \"'fill: none;stroke: lightblue;stroke-width: 1;opacity: 80%;'\", :y2 => 126, :x1 => 0), Servable[]), Dict{Any, Any}(:children => Servable[], :y1 => 126, :x2 => 500, \"style\" => \"'fill: none;stroke: lightblue;stroke-width: 1;opacity: 80%;'\", :y2 => 126, :x1 => 0), Servable[], \"line\"), Component{:line}(\"0cszb5of\", Toolips.var\"#f#80\"{String, String, Dict{Any, Any}, Vector{Servable}}(\"0cszb5of\", \"line\", Dict{Any, Any}(:children => Servable[], :y1 => 0, :x2 => 251, \"style\" => \"'fill: none;stroke: lightblue;stroke-width: 1;opacity: 80%;'\", :y2 => 500, :x1 => 251), Servable[]), Dict{Any, Any}(:children => Servable[], :y1 => 0, :x2 => 251, \"style\" => \"'fill: none;stroke: lightblue;stroke-width: 1;opacity: 80%;'\", :y2 => 500, :x1 => 251), Servable[], \"line\"), Component{:line}(\"p1MLzXRM\", Toolips.var\"#f#80\"{String, String, Dict{Any, Any}, Vector{Servable}}(\"p1MLzXRM\", \"line\", Dict{Any, Any}(:children => Servable[], :y1 => 251, :x2 => 500, \"style\" => \"'fill: none;stroke: lightblue;stroke-width: 1;opacity: 80%;'\", :y2 => 251, :x1 => 0), Servable[]), Dict{Any, Any}(:children => Servable[], :y1 => 251, :x2 => 500, \"style\" => \"'fill: none;stroke: lightblue;stroke-width: 1;opacity: 80%;'\", :y2 => 251, :x1 => 0), Servable[], \"line\"), Component{:line}(\"8Ju9dL8d\", Toolips.var\"#f#80\"{String, String, Dict{Any, Any}, Vector{Servable}}(\"8Ju9dL8d\", \"line\", Dict{Any, Any}(:children => Servable[], :y1 => 0, :x2 => 376, \"style\" => \"'fill: none;stroke: lightblue;stroke-width: 1;opacity: 80%;'\", :y2 => 500, :x1 => 376), Servable[]), Dict{Any, Any}(:children => Servable[], :y1 => 0, :x2 => 376, \"style\" => \"'fill: none;stroke: lightblue;stroke-width: 1;opacity: 80%;'\", :y2 => 500, :x1 => 376), Servable[], \"line\"), Component{:line}(\"t219T9ks\", Toolips.var\"#f#80\"{String, String, Dict{Any, Any}, Vector{Servable}}(\"t219T9ks\", \"line\", Dict{Any, Any}(:children => Servable[], :y1 => 376, :x2 => 500, \"style\" => \"'fill: none;stroke: lightblue;stroke-width: 1;opacity: 80%;'\", :y2 => 376, :x1 => 0), Servable[]), Dict{Any, Any}(:children => Servable[], :y1 => 376, :x2 => 500, \"style\" => \"'fill: none;stroke: lightblue;stroke-width: 1;opacity: 80%;'\", :y2 => 376, :x1 => 0), Servable[], \"line\"), Component{:g}(\"plotbase\", Toolips.var\"#f#80\"{String, String, Dict{Any, Any}, Vector{Servable}}(\"plotbase\", \"g\", Dict{Any, Any}(:children => Servable[], :height => 500, :width => 500), Servable[]), Dict{Any, Any}(:children => Servable[], :height => 500, :width => 500), Servable[], \"g\"), Component{:circle}(\"jiiuv0r9\", Toolips.var\"#f#80\"{String, String, Dict{Any, Any}, Vector{Servable}}(\"jiiuv0r9\", \"circle\", Dict{Any, Any}(:children => Servable[], :cx => \"166.66666666666666\", \"style\" => \"'fill: orange;stroke: lightblue;stroke-width: 0;'\", :r => \"5\", :cy => \"333.33333333333337\"), Servable[]), Dict{Any, Any}(:children => Servable[], :cx => \"166.66666666666666\", \"style\" => \"'fill: orange;stroke: lightblue;stroke-width: 0;'\", :r => \"5\", :cy => \"333.33333333333337\"), Servable[], \"circle\"), Component{:circle}(\"e7zdNSI4\", Toolips.var\"#f#80\"{String, String, Dict{Any, Any}, Vector{Servable}}(\"e7zdNSI4\", \"circle\", Dict{Any, Any}(:children => Servable[], :cx => \"333.3333333333333\", \"style\" => \"'fill: orange;stroke: lightblue;stroke-width: 0;'\", :r => \"5\", :cy => \"166.66666666666669\"), Servable[]), Dict{Any, Any}(:children => Servable[], :cx => \"333.3333333333333\", \"style\" => \"'fill: orange;stroke: lightblue;stroke-width: 0;'\", :r => \"5\", :cy => \"166.66666666666669\"), Servable[], \"circle\"), Component{:circle}(\"OolPMMdU\", Toolips.var\"#f#80\"{String, String, Dict{Any, Any}, Vector{Servable}}(\"OolPMMdU\", \"circle\", Dict{Any, Any}(:children => Servable[], :cx => \"500.0\", \"style\" => \"'fill: orange;stroke: lightblue;stroke-width: 0;'\", :r => \"5\", :cy => \"0.0\"), Servable[]), Dict{Any, Any}(:children => Servable[], :cx => \"500.0\", \"style\" => \"'fill: orange;stroke: lightblue;stroke-width: 0;'\", :r => \"5\", :cy => \"0.0\"), Servable[], \"circle\"), Component{:g}(\"points\", Toolips.var\"#f#80\"{String, String, Dict{Any, Any}, Vector{Servable}}(\"points\", \"g\", Dict{Any, Any}(:children => Servable[], :height => 500, :width => 500), Servable[]), Dict{Any, Any}(:children => Servable[], :height => 500, :width => 500), Servable[], \"g\")], :height => 500, :width => 500), Servable[], \"svg\"), \"XdrzeRas\", Dict{String, UnitRange{Int64}}(\"cJL4L8DC\" => 1:1, \"points\" => 15:15, \"AcnpBD2J\" => 3:3, \"eiagefAO\" => 6:6, \"5ccuVoah\" => 12:12, \"plotbase\" => 11:11, \"bU8EJfXv\" => 4:4, \"1f93PQL9\" => 8:8, \"uOplfvjA\" => 2:2, \"Wkfqqhoo\" => 5:5…), 500 => 500, 0 => 0)"
      ]
     },
     "execution_count": 58,
     "metadata": {},
     "output_type": "execute_result"
    }
   ],
   "source": [
    "d = scatter([5, 10, 15], [5, 10, 15])"
   ]
  },
  {
   "cell_type": "code",
   "execution_count": 59,
   "metadata": {},
   "outputs": [],
   "source": [
    "import Base: display, show"
   ]
  },
  {
   "cell_type": "code",
   "execution_count": 60,
   "metadata": {},
   "outputs": [
    {
     "data": {
      "text/plain": [
       "display (generic function with 36 methods)"
      ]
     },
     "execution_count": 60,
     "metadata": {},
     "output_type": "execute_result"
    }
   ],
   "source": [
    "function display(m::MIME{Symbol(\"text/html\")}, con::AbstractContext)\n",
    "    display(MIME\"text/html\", con.window)\n",
    "end"
   ]
  },
  {
   "cell_type": "code",
   "execution_count": 61,
   "metadata": {},
   "outputs": [
    {
     "data": {
      "text/plain": [
       "show (generic function with 400 methods)"
      ]
     },
     "execution_count": 61,
     "metadata": {},
     "output_type": "execute_result"
    }
   ],
   "source": [
    "function show(io::IO, con::AbstractContext)\n",
    "    display(MIME\"text/html\"(), con.window)\n",
    "end"
   ]
  },
  {
   "cell_type": "code",
   "execution_count": 62,
   "metadata": {},
   "outputs": [
    {
     "data": {
      "text/plain": [
       "Dict{String, UnitRange{Int64}} with 15 entries:\n",
       "  \"cJL4L8DC\" => 1:1\n",
       "  \"points\"   => 15:15\n",
       "  \"AcnpBD2J\" => 3:3\n",
       "  \"eiagefAO\" => 6:6\n",
       "  \"5ccuVoah\" => 12:12\n",
       "  \"plotbase\" => 11:11\n",
       "  \"bU8EJfXv\" => 4:4\n",
       "  \"1f93PQL9\" => 8:8\n",
       "  \"uOplfvjA\" => 2:2\n",
       "  \"Wkfqqhoo\" => 5:5\n",
       "  \"bCqJ1nle\" => 13:13\n",
       "  \"6JuCfCcw\" => 10:10\n",
       "  \"ptFNGgEe\" => 9:9\n",
       "  \"8QTo6Z96\" => 7:7\n",
       "  \"pS1dD5VM\" => 14:14"
      ]
     },
     "execution_count": 62,
     "metadata": {},
     "output_type": "execute_result"
    }
   ],
   "source": [
    "d.layers"
   ]
  },
  {
   "cell_type": "code",
   "execution_count": null,
   "metadata": {},
   "outputs": [],
   "source": []
  }
 ],
 "metadata": {
  "kernelspec": {
   "display_name": "Julia 1.7.2",
   "language": "julia",
   "name": "julia-1.7"
  },
  "language_info": {
   "file_extension": ".jl",
   "mimetype": "application/julia",
   "name": "julia",
   "version": "1.7.2"
  }
 },
 "nbformat": 4,
 "nbformat_minor": 4
}
