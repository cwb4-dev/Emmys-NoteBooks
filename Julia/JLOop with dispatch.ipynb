{
 "cells": [
  {
   "cell_type": "code",
   "execution_count": 1,
   "id": "45ad946e",
   "metadata": {},
   "outputs": [],
   "source": [
    "mutable struct OOPExample\n",
    "    x::Int64\n",
    "    show::Function\n",
    "    function OOPExample()\n",
    "        x = 5\n",
    "        show() = begin\n",
    "            println(x)\n",
    "        end\n",
    "        new(x, show)\n",
    "    end\n",
    "end"
   ]
  },
  {
   "cell_type": "code",
   "execution_count": 2,
   "id": "6d1d6783",
   "metadata": {},
   "outputs": [
    {
     "data": {
      "text/plain": [
       "OOPExample(5, var\"#show#3\"{Int64}(5))"
      ]
     },
     "execution_count": 2,
     "metadata": {},
     "output_type": "execute_result"
    }
   ],
   "source": [
    "opex = OOPExample()"
   ]
  },
  {
   "cell_type": "code",
   "execution_count": 4,
   "id": "6eac1f47",
   "metadata": {},
   "outputs": [
    {
     "name": "stdout",
     "output_type": "stream",
     "text": [
      "5\n"
     ]
    }
   ],
   "source": [
    "opex.show()"
   ]
  },
  {
   "cell_type": "code",
   "execution_count": 23,
   "id": "324b1da8",
   "metadata": {},
   "outputs": [
    {
     "data": {
      "text/plain": [
       "_show (generic function with 3 methods)"
      ]
     },
     "execution_count": 23,
     "metadata": {},
     "output_type": "execute_result"
    }
   ],
   "source": [
    "function _show(x::Int64)\n",
    "    println(x)\n",
    "end"
   ]
  },
  {
   "cell_type": "code",
   "execution_count": 24,
   "id": "58007032",
   "metadata": {},
   "outputs": [],
   "source": [
    "mutable struct IntHolder\n",
    "    x::Int64\n",
    "    show::Function\n",
    "    function IntHolder(x::Int64 = 5)\n",
    "        show(args::Any ...; kwargs ...) = _show(x, args ..., kwargs ...)\n",
    "        new(x, show)\n",
    "    end\n",
    "end"
   ]
  },
  {
   "cell_type": "code",
   "execution_count": 25,
   "id": "2caf40ec",
   "metadata": {},
   "outputs": [
    {
     "data": {
      "text/plain": [
       "IntHolder(5, var\"#show#26\"{var\"#show#25#27\"{Int64}}(var\"#show#25#27\"{Int64}(5)))"
      ]
     },
     "execution_count": 25,
     "metadata": {},
     "output_type": "execute_result"
    }
   ],
   "source": [
    "ih = IntHolder(5)"
   ]
  },
  {
   "cell_type": "code",
   "execution_count": 26,
   "id": "4e7d528a",
   "metadata": {},
   "outputs": [
    {
     "name": "stdout",
     "output_type": "stream",
     "text": [
      "5\n"
     ]
    }
   ],
   "source": [
    "ih.show()"
   ]
  },
  {
   "cell_type": "code",
   "execution_count": 27,
   "id": "75c0b5e0",
   "metadata": {},
   "outputs": [
    {
     "name": "stdout",
     "output_type": "stream",
     "text": [
      "5\n",
      "5\n",
      "5\n",
      "5\n",
      "5\n"
     ]
    }
   ],
   "source": [
    "ih.show(5)"
   ]
  },
  {
   "cell_type": "code",
   "execution_count": 22,
   "id": "a20538e0",
   "metadata": {},
   "outputs": [
    {
     "data": {
      "text/plain": [
       "_show (generic function with 3 methods)"
      ]
     },
     "execution_count": 22,
     "metadata": {},
     "output_type": "execute_result"
    }
   ],
   "source": [
    "function _show(x::Int64, n::Int64)\n",
    "    [println(x) for i in 1:n]\n",
    "    return\n",
    "end"
   ]
  },
  {
   "cell_type": "code",
   "execution_count": null,
   "id": "aa2d408b",
   "metadata": {},
   "outputs": [],
   "source": []
  }
 ],
 "metadata": {
  "kernelspec": {
   "display_name": "Julia 1.9.2",
   "language": "julia",
   "name": "julia-1.9"
  },
  "language_info": {
   "file_extension": ".jl",
   "mimetype": "application/julia",
   "name": "julia",
   "version": "1.9.2"
  }
 },
 "nbformat": 4,
 "nbformat_minor": 5
}
